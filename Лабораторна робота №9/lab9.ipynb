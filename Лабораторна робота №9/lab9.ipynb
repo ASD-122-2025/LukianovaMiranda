{
"cells": [
 {
  "cell_type": "raw",
  "id": "yaml-header",
  "metadata": {},
  "source": [
   "---\n",
   "title: \"Лабораторна робота №9. Алгоритми на рядках\"\n",
   "description:\n",
   "   Документ зроблено за допомогою [Quarto](https://quarto.org/)\n",
   "author: \"&copy; [<span style='color: blue;'>Міранда Лук'янова Романівна </span>]\"\n",
   "date: \"29.05.2025\"\n",
   "lang: ukr\n",
   "format:\n",
   "  html:\n",
   "    code-fold: true\n",
   "    toc: true\n",
   "    toc_float:\n",
   "      collapsed: true\n",
   "      number_sections: true\n",
   "jupyter: python3\n",
   "---"
  ]
 },
 {
  "cell_type": "markdown",
  "id": "intro",
  "metadata": {},
  "source": [
   "## Вступ\n",
   "\n",
   "**Тема:** Алгоритми на рядках\n",
   "\n",
   "**Мета:** Освоїти низку основних алгоритмів на рядках засобами мови Python.\n",
   "\n",
   "**Завдання:**\n",
   "- Реалізувати алгоритм пошуку підрядка в рядку\n",
   "- Реалізувати z-функцію і застосовувати її в алгоритмах аналізу рядків"
  ]
 },
 {
  "cell_type": "markdown",
  "id": "theory",
  "metadata": {},
  "source": [
   "## Хід роботи\n",
   "\n",
   "### 1. Наївний алгоритм пошуку підрядка"
  ]
 },
 {
  "cell_type": "markdown",
  "id": "naive-theory",
  "metadata": {},
  "source": [
   "Наївний алгоритм - найпростіший метод пошуку шаблону в тексті. Він перевіряє всі можливі позиції тексту і порівнює символи шаблону з відповідними символами тексту.\n",
   "\n",
   "**Складність:** O(|t| × |p|) у найгіршому випадку."
  ]
 },
 {
  "cell_type": "code",
  "execution_count": null,
  "id": "naive-implementation",
  "metadata": {},
  "outputs": [],
  "source": [
   "def naive_match(p, t):\n",
   "    \"\"\"Наївний алгоритм пошуку підрядка\"\"\"\n",
   "    assert len(p) <= len(t)\n",
   "    occurrences = []\n",
   "    \n",
   "    for i in range(0, len(t) - len(p) + 1):\n",
   "        match = True\n",
   "        for j in range(0, len(p)):\n",
   "            if t[i + j] != p[j]:\n",
   "                match = False\n",
   "                break\n",
   "        if match:\n",
   "            occurrences.append(i)\n",
   "    \n",
   "    return occurrences"
  ]
 },
 {
  "cell_type": "code",
  "execution_count": null,
  "id": "naive-test",
  "metadata": {},
  "outputs": [],
  "source": [
   "# Тестування наївного алгоритму\n",
   "result = naive_match('needle', 'needleneedleneedle')\n",
   "print(f\"Знайдені позиції: {result}\")\n",
   "print(f\"Перевірка: {result == [0, 6, 12]}\")"
  ]
 },
 {
  "cell_type": "markdown",
  "id": "z-function-theory",
  "metadata": {},
  "source": [
   "### 2. Z-функція\n",
   "\n",
   "Z-функція для рядка s - це масив довжини n, де i-й елемент дорівнює найбільшому числу символів, починаючи з позиції i, які співпадають з першими символами рядка s."
  ]
 },
 {
  "cell_type": "code",
  "execution_count": null,
  "id": "z-function-implementation",
  "metadata": {},
  "outputs": [],
  "source": [
   "def z_func(s):\n",
   "    \"\"\"Обчислення Z-функції для рядка s\"\"\"\n",
   "    Z = [len(s)] + [0] * (len(s) - 1)\n",
   "    assert len(s) > 1\n",
   "    \n",
   "    # Початкові порівняння\n",
   "    for i in range(1, len(s)):\n",
   "        if s[i] == s[i-1]:\n",
   "            Z[1] += 1\n",
   "        else:\n",
   "            break\n",
   "    \n",
   "    r, l = 0, 0\n",
   "    if Z[1] > 0:\n",
   "        r, l = Z[1], 1\n",
   "    \n",
   "    # Основний цикл обчислення Z-функції\n",
   "    for k in range(2, len(s)):\n",
   "        if k > r:\n",
   "            # Випадок 1: k за межами поточного діапазону\n",
   "            for i in range(k, len(s)):\n",
   "                if s[i] == s[i-k]:\n",
   "                    Z[k] += 1\n",
   "                else:\n",
   "                    break\n",
   "            r, l = k + Z[k] - 1, k\n",
   "        else:\n",
   "            # Випадок 2: k всередині діапазону\n",
   "            nbeta = r - k + 1\n",
   "            Zkp = Z[k - l]\n",
   "            if nbeta > Zkp:\n",
   "                Z[k] = Zkp\n",
   "            else:\n",
   "                nmatch = 0\n",
   "                for i in range(r+1, len(s)):\n",
   "                    if s[i] == s[i - k]:\n",
   "                        nmatch += 1\n",
   "                    else:\n",
   "                        break\n",
   "                l, r = k, r + nmatch\n",
   "                Z[k] = r - k + 1\n",
   "    \n",
   "    return Z"
  ]
 },
 {
  "cell_type": "code",
  "execution_count": null,
  "id": "z-function-test",
  "metadata": {},
  "outputs": [],
  "source": [
   "# Тестування Z-функції\n",
   "test_string = 'abracadabra'\n",
   "z_result = z_func(test_string)\n",
   "print(f\"Рядок: {test_string}\")\n",
   "print(f\"Z-функція: {z_result}\")"
  ]
 },
 {
  "cell_type": "markdown",
  "id": "z-search-theory",
  "metadata": {},
  "source": [
   "### 3. Пошук підрядка за допомогою Z-функції\n",
   "\n",
   "Для пошуку підрядка p в тексті t створюємо рядок s = p + '$' + t і обчислюємо Z-функцію. Позиції, де Z[i] = len(p), відповідають входженням підрядка.\n",
   "\n",
   "**Складність:** O(len(p) + len(t))"
  ]
 },
 {
  "cell_type": "code",
  "execution_count": null,
  "id": "z-search-implementation",
  "metadata": {},
  "outputs": [],
  "source": [
   "def zMatch(p, t):\n",
   "    \"\"\"Пошук підрядка за допомогою Z-функції\"\"\"\n",
   "    s = p + \"$\" + t\n",
   "    Z = z_func(s)\n",
   "    occurrences = []\n",
   "    \n",
   "    for i in range(len(p) + 1, len(s)):\n",
   "        if Z[i] == len(p):\n",
   "            occurrences.append(i - (len(p) + 1))\n",
   "    \n",
   "    return occurrences"
  ]
 },
 {
  "cell_type": "code",
  "execution_count": null,
  "id": "z-search-test",
  "metadata": {},
  "outputs": [],
  "source": [
   "# Тестування пошуку з Z-функцією\n",
   "t, p = \"абабагаламага\", \"аб\"\n",
   "calculated_z = z_func(\"аб$абабагаламага\")\n",
   "print(f\"Z-функція для '{p}${t}': {calculated_z}\")\n",
   "\n",
   "matches = zMatch(p, t)\n",
   "print(f\"Знайдені входження '{p}' в '{t}': {matches}\")"
  ]
 },
 {
  "cell_type": "markdown",
  "id": "compression-theory",
  "metadata": {},
  "source": [
   "### 4. Стиснення рядка за допомогою Z-функції\n",
   "\n",
   "Z-функція дозволяє знайти найкоротше періодичне представлення рядка."
  ]
 },
 {
  "cell_type": "code",
  "execution_count": null,
  "id": "compression-implementation",
  "metadata": {},
  "outputs": [],
  "source": [
   "def compress_with_z(s):\n",
   "    \"\"\"Стиснення рядка за допомогою Z-функції\"\"\"\n",
   "    z_vec = z_func(s)\n",
   "    \n",
   "    for i in range(1, len(s)):\n",
   "        if (i + z_vec[i] == len(s)) and (len(s) % i == 0):\n",
   "            return s[:i]\n",
   "    \n",
   "    return s"
  ]
 },
 {
  "cell_type": "code",
  "execution_count": null,
  "id": "compression-test",
  "metadata": {},
  "outputs": [],
  "source": [
   "# Тестування стиснення\n",
   "s = \"абырвалгабырвалгабырвалг\"\n",
   "z_result = z_func(s)\n",
   "compressed = compress_with_z(s)\n",
   "\n",
   "print(f\"Оригінальний рядок: {s}\")\n",
   "print(f\"Z-функція: {z_result}\")\n",
   "print(f\"Стиснутий рядок: {compressed}\")"
  ]
 },
 {
  "cell_type": "markdown",
  "id": "analysis",
  "metadata": {},
  "source": [
   "### 5. Аналіз асимптотичної складності\n",
   "\n",
   "**Наївний алгоритм:**\n",
   "- У найгіршому випадку: O(|t| × |p|)\n",
   "- Це відбувається, коли потрібно перевіряти всі символи шаблону на кожній позиції тексту\n",
   "\n",
   "**Алгоритм з Z-функцією:**\n",
   "- Складність: O(|p| + |t|)\n",
   "- Значно ефективніший для великих текстів\n",
   "\n",
   "**Стиснення рядка:**\n",
   "- Складність: O(n), де n - довжина рядка\n",
   "- Обчислення Z-функції займає O(n), пошук найкоротшого періоду - також O(n)"
  ]
 },
 {
  "cell_type": "markdown",
  "id": "questions",
  "metadata": {},
  "source": [
   "## Відповіді на контрольні питання\n",
   "\n",
   "**1. Що таке \"префікс-функція\" у контексті алгоритмів на рядках, і як вона відрізняється від Z-функції?**\n",
   "\n",
   "Префікс-функція (π-функція) для рядка s - це масив, де π[i] дорівнює довжині найдовшого власного префікса підрядка s[0...i], який також є суфіксом цього підрядка. Z-функція обчислює довжину найдовшого спільного префікса всього рядка з його суфіксом, що починається з позиції i.\n",
   "\n",
   "**2. Що таке Z-функція у контексті алгоритмів на рядках, і яка її роль у вирішенні задач?**\n",
   "\n",
   "Z-функція - це масив, де Z[i] дорівнює довжині найдовшого підрядка, що починається з позиції i і співпадає з prefіксом всього рядка. Вона використовується для ефективного пошуку підрядків, стиснення рядків та інших задач обробки текстів.\n",
   "\n",
   "**3. Які існують підходи до вирішення задачі \"найдовший спільний підрядок\" для двох рядків?**\n",
   "\n",
   "Основні підходи: динамічне програмування (O(n×m)), суфіксні масиви, використання Z-функції або префікс-функції для об'єднаного рядка, алгоритми на основі хешування.\n",
   "\n",
   "**4. Як можна застосувати алгоритми на рядках у задачах обробки природної мови або обробки текстів?**\n",
   "\n",
   "Застосування включають: пошук ключових слів у документах, виявлення плагіату, стиснення тексту, автокомплітування, пошук схожих документів, індексування для пошукових систем, обробка ДНК-послідовностей у біоінформатиці."
  ]
 },
 {
  "cell_type": "markdown",
  "id": "conclusions",
  "metadata": {},
  "source": [
   "## Висновки\n",
   "\n",
   "У ході виконання лабораторної роботи було:\n",
   "\n",
   "1. **Реалізовано наївний алгоритм пошуку підрядка** з асимптотичною складністю O(|t| × |p|)\n",
   "\n",
   "2. **Імплементовано Z-функцію** та продемонстровано її застосування для:\n",
   "   - Ефективного пошуку підрядків з складністю O(|p| + |t|)\n",
   "   - Стиснення рядків шляхом знаходження найкоротшого періоду\n",
   "\n",
   "3. **Проаналізовано асимптотичну складність** алгоритмів:\n",
   "   - Наївний алгоритм: O(n×m) у найгіршому випадку\n",
   "   - Z-функція: O(n) для обчислення, O(n+m) для пошуку\n",
   "   - Стиснення: O(n)\n",
   "\n",
   "4. **Практично перевірено роботу** всіх реалізованих алгоритмів на тестових прикладах\n",
   "\n",
   "Z-функція показала свою ефективність порівняно з наївним підходом, особливо для великих текстів, що робить її корисною для реальних застосувань у обробці текстів та біоінформатиці."
  ]
 }
],
"metadata": {
 "kernelspec": {
  "display_name": "Python 3",
  "language": "python",
  "name": "python3"
 },
 "language_info": {
  "codemirror_mode": {
   "name": "ipython",
   "version": 3
  },
  "file_extension": ".py",
  "mimetype": "text/x-python",
  "name": "python",
  "nbconvert_exporter": "python",
  "pygments_lexer": "ipython3",
  "version": "3.8.5"
 }
},
"nbformat": 4,
"nbformat_minor": 5
}