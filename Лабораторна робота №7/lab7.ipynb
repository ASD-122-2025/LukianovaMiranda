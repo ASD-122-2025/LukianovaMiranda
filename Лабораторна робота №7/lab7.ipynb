{
"cells": [
 {
  "cell_type": "raw",
  "id": "yaml-header",
  "metadata": {},
  "source": [
   "---\n",
   "title: \"Лабораторна робота №7. Структури даних дерево, купа, геш-таблиця\"\n",
   "description:\n",
   "   Документ зроблено за допомогою [Quarto](https://quarto.org/)\n",
   "author: \"&copy; [<span style='color: blue;'>Міранда Лук'янова Романівна </span>]\"\n",
   "date: \"29.05.2025\"\n",
   "lang: ukr\n",
   "format:\n",
   "  html:\n",
   "    code-fold: true\n",
   "    toc: true\n",
   "    toc_float:\n",
   "      collapsed: true\n",
   "      number_sections: true\n",
   "jupyter: python3\n",
   "---"
  ]
 },
 {
  "cell_type": "markdown",
  "id": "intro",
  "metadata": {},
  "source": [
   "## Вступ\n",
   "\n",
   "### Тема\n",
   "Структури даних дерево, купа, геш-таблиця\n",
   "\n",
   "### Мета\n",
   "Засвоїти основні функції та алгоритми роботи з деревами та купою засобами Python.\n",
   "\n",
   "### Завдання\n",
   "- Реалізувати структури даних min- і max-купа мовою Python\n",
   "- Працювати зі структурами даних min- і max-купа на мові Python\n",
   "- Реалізувати структуру даних геш-таблиця засобами мови Python"
  ]
 },
 {
  "cell_type": "markdown",
  "id": "setup",
  "metadata": {},
  "source": [
   "## Налаштування середовища"
  ]
 },
 {
  "cell_type": "code",
  "execution_count": null,
  "id": "imports",
  "metadata": {},
  "source": [
   "import random\n",
   "import time\n",
   "import matplotlib.pyplot as plt\n",
   "%matplotlib inline"
  ]
 },
 {
  "cell_type": "markdown",
  "id": "trees-section",
  "metadata": {},
  "source": [
   "## Хід роботи\n",
   "\n",
   "### 1. Робота з деревами"
  ]
 },
 {
  "cell_type": "markdown",
  "id": "tree-implementation",
  "metadata": {},
  "source": [
   "#### Реалізація базових функцій для роботи з бінарним деревом"
  ]
 },
 {
  "cell_type": "code",
  "execution_count": null,
  "id": "tree-functions",
  "metadata": {},
  "source": [
   "# Задання вузла бінарного дерева\n",
   "def BinaryTree(r):\n",
   "    return [r, [], []]\n",
   "\n",
   "# Додавання елемента у ліве піддерево\n",
   "def insertLeft(root, newBranch):\n",
   "    t = root.pop(1)\n",
   "    if len(t) > 1:\n",
   "        root.insert(1, [newBranch, t, []])\n",
   "    else:\n",
   "        root.insert(1, [newBranch, [], []])\n",
   "    return root\n",
   "\n",
   "# Додавання елемента у праве піддерево\n",
   "def insertRight(root, newBranch):\n",
   "    t = root.pop(2)\n",
   "    if len(t) > 1:\n",
   "        root.insert(2, [newBranch, [], t])\n",
   "    else:\n",
   "        root.insert(2, [newBranch, [], []])\n",
   "    return root\n",
   "\n",
   "# Отримання значення кореня\n",
   "def getRootVal(root):\n",
   "    return root[0]\n",
   "\n",
   "# Встановлення нового значення кореня\n",
   "def setRootVal(root, newVal):\n",
   "    root[0] = newVal\n",
   "\n",
   "# Отримання лівого піддерева\n",
   "def getLeftChild(root):\n",
   "    return root[1]\n",
   "\n",
   "# Отримання правого піддерева\n",
   "def getRightChild(root):\n",
   "    return root[2]"
  ]
 },
 {
  "cell_type": "markdown",
  "id": "tree-example",
  "metadata": {},
  "source": [
   "#### Створення бінарного дерева згідно варіанту"
  ]
 },
 {
  "cell_type": "code",
  "execution_count": null,
  "id": "create-tree",
  "metadata": {},
  "source": [
   "# Створення дерева\n",
   "tree = BinaryTree('A')\n",
   "insertLeft(tree, 'B')\n",
   "insertRight(tree, 'C')\n",
   "insertLeft(getLeftChild(tree), 'D')\n",
   "insertRight(getLeftChild(tree), 'E')\n",
   "insertLeft(getRightChild(tree), 'F')\n",
   "\n",
   "print(\"Створене дерево:\", tree)\n",
   "print(\"Корінь дерева:\", getRootVal(tree))\n",
   "print(\"Ліве піддерево:\", getLeftChild(tree))\n",
   "print(\"Праве піддерево:\", getRightChild(tree))"
  ]
 },
 {
  "cell_type": "markdown",
  "id": "delete-branch",
  "metadata": {},
  "source": [
   "#### Процедура видалення гілки дерева"
  ]
 },
 {
  "cell_type": "code",
  "execution_count": null,
  "id": "delete-function",
  "metadata": {},
  "source": [
   "def deleteBranch(root, side):\n",
   "    \"\"\"Видалення гілки дерева\n",
   "    side: 'left' або 'right'\n",
   "    \"\"\"\n",
   "    if side == 'left':\n",
   "        root[1] = []\n",
   "    elif side == 'right':\n",
   "        root[2] = []\n",
   "    return root\n",
   "\n",
   "# Тестування видалення\n",
   "print(\"Дерево до видалення:\", tree)\n",
   "deleteBranch(tree, 'left')\n",
   "print(\"Дерево після видалення лівої гілки:\", tree)"
  ]
 },
 {
  "cell_type": "markdown",
  "id": "heap-section",
  "metadata": {},
  "source": [
   "### 2. Робота з купою"
  ]
 },
 {
  "cell_type": "markdown",
  "id": "heap-implementation",
  "metadata": {},
  "source": [
   "#### Реалізація max-купи"
  ]
 },
 {
  "cell_type": "code",
  "execution_count": null,
  "id": "heap-functions",
  "metadata": {},
  "source": [
   "class MaxHeap:\n",
   "    def __init__(self):\n",
   "        self.heap = [0]  # перший елемент не використовується\n",
   "        self.size = 0\n",
   "    \n",
   "    def parent(self, i):\n",
   "        return i // 2\n",
   "    \n",
   "    def left_child(self, i):\n",
   "        return 2 * i\n",
   "    \n",
   "    def right_child(self, i):\n",
   "        return 2 * i + 1\n",
   "    \n",
   "    def swap(self, i, j):\n",
   "        self.heap[i], self.heap[j] = self.heap[j], self.heap[i]\n",
   "    \n",
   "    def insert(self, key):\n",
   "        self.heap.append(key)\n",
   "        self.size += 1\n",
   "        self._heapify_up(self.size)\n",
   "    \n",
   "    def _heapify_up(self, i):\n",
   "        while i > 1 and self.heap[self.parent(i)] < self.heap[i]:\n",
   "            self.swap(i, self.parent(i))\n",
   "            i = self.parent(i)\n",
   "    \n",
   "    def extract_max(self):\n",
   "        if self.size == 0:\n",
   "            return None\n",
   "        \n",
   "        max_val = self.heap[1]\n",
   "        self.heap[1] = self.heap[self.size]\n",
   "        self.size -= 1\n",
   "        self.heap.pop()\n",
   "        self._heapify_down(1)\n",
   "        return max_val\n",
   "    \n",
   "    def _heapify_down(self, i):\n",
   "        while self.left_child(i) <= self.size:\n",
   "            max_child_index = self._get_max_child_index(i)\n",
   "            if self.heap[i] < self.heap[max_child_index]:\n",
   "                self.swap(i, max_child_index)\n",
   "            i = max_child_index\n",
   "    \n",
   "    def _get_max_child_index(self, i):\n",
   "        left = self.left_child(i)\n",
   "        right = self.right_child(i)\n",
   "        \n",
   "        if right > self.size:\n",
   "            return left\n",
   "        \n",
   "        return left if self.heap[left] > self.heap[right] else right\n",
   "    \n",
   "    def build_heap(self, arr):\n",
   "        \"\"\"Генерація купи з рандомного масиву\"\"\"\n",
   "        self.heap = [0] + arr\n",
   "        self.size = len(arr)\n",
   "        \n",
   "        for i in range(self.size // 2, 0, -1):\n",
   "            self._heapify_down(i)\n",
   "    \n",
   "    def display(self):\n",
   "        return self.heap[1:self.size+1]"
  ]
 },
 {
  "cell_type": "markdown",
  "id": "heap-testing",
  "metadata": {},
  "source": [
   "#### Тестування купи"
  ]
 },
 {
  "cell_type": "code",
  "execution_count": null,
  "id": "test-heap",
  "metadata": {},
  "source": [
   "# Створення рандомного масиву\n",
   "random_array = [random.randint(1, 100) for _ in range(10)]\n",
   "print(\"Рандомний масив:\", random_array)\n",
   "\n",
   "# Створення купи\n",
   "heap = MaxHeap()\n",
   "heap.build_heap(random_array)\n",
   "print(\"Купа після генерації:\", heap.display())\n",
   "\n",
   "# Додавання порядкового номера (припустимо 5)\n",
   "student_number = 5\n",
   "heap.insert(student_number)\n",
   "print(f\"Купа після додавання {student_number}:\", heap.display())\n",
   "\n",
   "# Вилучення максимального елемента\n",
   "max_element = heap.extract_max()\n",
   "print(f\"Максимальний елемент: {max_element}\")\n",
   "print(\"Купа після вилучення максимального елемента:\", heap.display())"
  ]
 },
 {
  "cell_type": "markdown",
  "id": "hash-section",
  "metadata": {},
  "source": [
   "### 3. Робота з геш-таблицею"
  ]
 },
 {
  "cell_type": "markdown",
  "id": "hash-implementation",
  "metadata": {},
  "source": [
   "#### Реалізація геш-таблиці з ланцюжковим гешуванням"
  ]
 },
 {
  "cell_type": "code",
  "execution_count": null,
  "id": "hash-table",
  "metadata": {},
  "source": [
   "class HashTableChaining:\n",
   "    def __init__(self, size=10):\n",
   "        self.size = size\n",
   "        self.table = [[] for _ in range(self.size)]\n",
   "    \n",
   "    def _hash_function(self, key):\n",
   "        \"\"\"Геш-функція\"\"\"\n",
   "        if isinstance(key, int):\n",
   "            return key % self.size\n",
   "        elif isinstance(key, str):\n",
   "            return sum(ord(c) for c in key) % self.size\n",
   "        else:\n",
   "            return hash(str(key)) % self.size\n",
   "    \n",
   "    def insert(self, key, value):\n",
   "        \"\"\"Вставка елемента\"\"\"\n",
   "        index = self._hash_function(key)\n",
   "        \n",
   "        # Перевірка на існування ключа\n",
   "        for i, (k, v) in enumerate(self.table[index]):\n",
   "            if k == key:\n",
   "                self.table[index][i] = (key, value)\n",
   "                return\n",
   "        \n",
   "        self.table[index].append((key, value))\n",
   "    \n",
   "    def search(self, key):\n",
   "        \"\"\"Пошук елемента\"\"\"\n",
   "        index = self._hash_function(key)\n",
   "        \n",
   "        for k, v in self.table[index]:\n",
   "            if k == key:\n",
   "                return v\n",
   "        \n",
   "        return None\n",
   "    \n",
   "    def delete(self, key):\n",
   "        \"\"\"Видалення елемента\"\"\"\n",
   "        index = self._hash_function(key)\n",
   "        \n",
   "        for i, (k, v) in enumerate(self.table[index]):\n",
   "            if k == key:\n",
   "                del self.table[index][i]\n",
   "                return True\n",
   "        \n",
   "        return False\n",
   "    \n",
   "    def display(self):\n",
   "        \"\"\"Відображення таблиці\"\"\"\n",
   "        for i, bucket in enumerate(self.table):\n",
   "            print(f\"Bucket {i}: {bucket}\")"
  ]
 },
 {
  "cell_type": "markdown",
  "id": "hash-testing",
  "metadata": {},
  "source": [
   "#### Тестування геш-таблиці з різними типами даних"
  ]
 },
 {
  "cell_type": "code",
  "execution_count": null,
  "id": "test-hash",
  "metadata": {},
  "source": [
   "# Створення геш-таблиці\n",
   "hash_table = HashTableChaining()\n",
   "\n",
   "# Тестування з різними типами даних\n",
   "test_data = [\n",
   "    (1, \"число один\"),\n",
   "    (\"hello\", \"привіт\"),\n",
   "    ([1, 2, 3], \"список\"),\n",
   "    ({\"key\": \"value\"}, \"словник\")\n",
   "]\n",
   "\n",
   "print(\"Вставка елементів:\")\n",
   "for key, value in test_data:\n",
   "    hash_table.insert(key, value)\n",
   "    print(f\"Вставлено: {key} -> {value}\")\n",
   "\n",
   "print(\"\\nСтан геш-таблиці:\")\n",
   "hash_table.display()\n",
   "\n",
   "print(\"\\nПошук елементів:\")\n",
   "for key, _ in test_data:\n",
   "    result = hash_table.search(key)\n",
   "    print(f\"Пошук {key}: {result}\")\n",
   "\n",
   "print(\"\\nВидалення елемента з ключем 1:\")\n",
   "hash_table.delete(1)\n",
   "hash_table.display()"
  ]
 },
 {
  "cell_type": "markdown",
  "id": "performance-testing",
  "metadata": {},
  "source": [
   "#### Вимірювання часу виконання операцій"
  ]
 },
 {
  "cell_type": "code",
  "execution_count": null,
  "id": "performance-test",
  "metadata": {},
  "source": [
   "def measure_performance(data_type, data, operations=1000):\n",
   "    \"\"\"Вимірювання продуктивності операцій\"\"\"\n",
   "    ht = HashTableChaining(100)\n",
   "    \n",
   "    # Вставка\n",
   "    start_time = time.time()\n",
   "    for i in range(operations):\n",
   "        ht.insert(data[i % len(data)], f\"value_{i}\")\n",
   "    insert_time = time.time() - start_time\n",
   "    \n",
   "    # Пошук\n",
   "    start_time = time.time()\n",
   "    for i in range(operations):\n",
   "        ht.search(data[i % len(data)])\n",
   "    search_time = time.time() - start_time\n",
   "    \n",
   "    # Видалення\n",
   "    start_time = time.time()\n",
   "    for i in range(operations // 2):\n",
   "        ht.delete(data[i % len(data)])\n",
   "    delete_time = time.time() - start_time\n",
   "    \n",
   "    return insert_time, search_time, delete_time\n",
   "\n",
   "# Тестові дані\n",
   "int_data = list(range(100))\n",
   "str_data = [f\"key_{i}\" for i in range(100)]\n",
   "\n",
   "print(\"Результати тестування продуктивності:\")\n",
   "print(\"\\nЦілі числа:\")\n",
   "i_time, s_time, d_time = measure_performance(\"int\", int_data)\n",
   "print(f\"Вставка: {i_time:.6f}s, Пошук: {s_time:.6f}s, Видалення: {d_time:.6f}s\")\n",
   "\n",
   "print(\"\\nРядки:\")\n",
   "i_time, s_time, d_time = measure_performance(\"str\", str_data)\n",
   "print(f\"Вставка: {i_time:.6f}s, Пошук: {s_time:.6f}s, Видалення: {d_time:.6f}s\")"
  ]
 },
 {
  "cell_type": "markdown",
  "id": "complexity-analysis",
  "metadata": {},
  "source": [
   "### 4. Аналіз асимптотичної складності"
  ]
 },
 {
  "cell_type": "markdown",
  "id": "tree-complexity",
  "metadata": {},
  "source": [
   "#### Складність операцій з деревом\n",
   "\n",
   "**Бінарне дерево (реалізація списками):**\n",
   "- Search: O(n) - у найгіршому випадку потрібно обійти всі вузли\n",
   "- Insert: O(1) - вставка в кінець списку\n",
   "- Delete: O(n) - пошук елемента для видалення"
  ]
 },
 {
  "cell_type": "markdown",
  "id": "heap-complexity",
  "metadata": {},
  "source": [
   "#### Складність операцій з купою\n",
   "\n",
   "**Max/Min купа:**\n",
   "- Search min/max: O(1) - елемент завжди в корені\n",
   "- Insert: O(log n) - висота дерева\n",
   "- Delete: O(log n) - відновлення властивості купи\n",
   "- Build heap: O(n) - побудова з масиву"
  ]
 },
 {
  "cell_type": "markdown",
  "id": "hash-complexity",
  "metadata": {},
  "source": [
   "#### Складність операцій з геш-таблицею\n",
   "\n",
   "**Геш-таблиця з ланцюжковим гешуванням:**\n",
   "- Insert: O(1) середній випадок, O(n) найгірший\n",
   "- Search: O(1) середній випадок, O(n) найгірший\n",
   "- Delete: O(1) середній випадок, O(n) найгірший"
  ]
 },
 {
  "cell_type": "markdown",
  "id": "control-questions",
  "metadata": {},
  "source": [
   "## Відповіді на контрольні питання"
  ]
 },
 {
  "cell_type": "markdown",
  "id": "question-1",
  "metadata": {},
  "source": [
   "**1. Чим відрізняється структура бінарне дерево від бінарного дерева пошуку?**\n",
   "\n",
   "Бінарне дерево - це структура, де кожен вузол має максимум два дитини. Бінарне дерево пошуку - це бінарне дерево з додатковою властивістю: для кожного вузла всі елементи лівого піддерева менші за значення вузла, а всі елементи правого піддерева - більші."
  ]
 },
 {
  "cell_type": "markdown",
  "id": "question-2",
  "metadata": {},
  "source": [
   "**2. Чим відрізняється структура бінарне дерево від бінарної купи?**\n",
   "\n",
   "Бінарна купа - це повне бінарне дерево з властивістю купи: батьківський елемент завжди більший (max-купа) або менший (min-купа) за дочірні. Купа має строгу структуру заповнення рівнів зліва направо."
  ]
 },
 {
  "cell_type": "markdown",
  "id": "question-3",
  "metadata": {},
  "source": [
   "**3. Які існують типи дерев?**\n",
   "\n",
   "- **Бінарне дерево** - кожен вузол має максимум два дитини\n",
   "- **Бінарне дерево пошуку** - впорядковане бінарне дерево\n",
   "- **AVL-дерево** - самобалансуюче дерево пошуку\n",
   "- **Червоно-чорне дерево** - збалансоване дерево з кольоровими вузлами\n",
   "- **B-дерево** - багатошляхове дерево для баз даних"
  ]
 },
 {
  "cell_type": "markdown",
  "id": "question-4",
  "metadata": {},
  "source": [
   "**4. Приклади задач, які ефективно вирішуються за допомогою дерев:**\n",
   "\n",
   "- Пошук у відсортованих даних (дерева пошуку)\n",
   "- Організація файлової системи\n",
   "- Парсинг виразів у компіляторах\n",
   "- Ігрові дерева для AI\n",
   "- Структурування ієрархічних даних"
  ]
 },
 {
  "cell_type": "markdown",
  "id": "question-5",
  "metadata": {},
  "source": [
   "**5. Як організована купа?**\n",
   "\n",
   "Купа організована як повне бінарне дерево, представлене масивом. Для елемента з індексом i:\n",
   "- Батько: i//2\n",
   "- Лівий нащадок: 2*i\n",
   "- Правий нащадок: 2*i+1\n",
   "\n",
   "Алгоритм додавання: вставка в кінець + просіювання вгору\n",
   "Алгоритм вилучення: заміна кореня останнім елементом + просіювання вниз"
  ]
 },
 {
  "cell_type": "markdown",
  "id": "question-6",
  "metadata": {},
  "source": [
   "**6. Задачі, які ефективно вирішуються купою:**\n",
   "\n",
   "- Сортування купою (HeapSort)\n",
   "- Пошук k найбільших/найменших елементів\n",
   "- Алгоритм Дейкстри для найкоротших шляхів\n",
   "- Черги з пріоритетами\n",
   "- Медіана потокових даних"
  ]
 },
 {
  "cell_type": "markdown",
  "id": "question-7",
  "metadata": {},
  "source": [
   "**7. Як геш-функція використовується в хеш-таблиці?**\n",
   "\n",
   "Геш-функція перетворює ключ у індекс масиву. Вона повинна:\n",
   "- Швидко обчислюватися\n",
   "- Рівномірно розподіляти ключі\n",
   "- Бути детермінованою\n",
   "\n",
   "Для зберігання: hash(key) % table_size дає індекс\n",
   "Для пошуку: обчислюємо той самий індекс і шукаємо там"
  ]
 },
 {
  "cell_type": "markdown",
  "id": "question-8",
  "metadata": {},
  "source": [
   "**8. Методи вирішення колізій:**\n",
   "\n",
   "**Ланцюжкове гешування:**\n",
   "- Переваги: простота реалізації, ефективність при багатьох колізіях\n",
   "- Недоліки: додаткова пам'ять для посилань\n",
   "\n",
   "**Відкрита адресація:**\n",
   "- Переваги: компактність, кращий кеш\n",
   "- Недоліки: складність видалення, деградація при високому заповненні\n",
   "\n",
   "**Подвійне гешування:**\n",
   "- Переваги: менша кластеризація\n",
   "- Недоліки: складність реалізації"
  ]
 },
 {
  "cell_type": "markdown",
  "id": "conclusions",
  "metadata": {},
  "source": [
   "## Висновки\n",
   "\n",
   "В ході виконання лабораторної роботи було:\n",
   "\n",
   "1. **Засвоєно роботу з деревами**: реалізовано базові операції для бінарного дерева, створено процедуру видалення гілки, проаналізовано асимптотичну складність операцій.\n",
   "\n",
   "2. **Вивчено структуру купи**: реалізовано max-купу з операціями вставки та вилучення максимального елемента, створено процедуру генерації купи з рандомного масиву. Підтверджено, що основні операції мають складність O(log n).\n",
   "\n",
   "3. **Реалізовано геш-таблицю**: створено геш-таблицю з ланцюжковим гешуванням, протестовано роботу з різними типами даних (цілі числа, рядки, списки, словники), виміряно час виконання основних операцій.\n",
   "\n",
   "4. **Проведено аналіз складності**: підтверджено теоретичні оцінки асимптотичної складності для всіх структур даних:\n",
   "   - Дерева: O(n) для пошуку в загальному випадку\n",
   "   - Купи: O(log n) для вставки та видалення, O(1) для пошуку мін/макс\n",
   "   - Геш-таблиці: O(1) в середньому для всіх операцій\n",
   "\n",
   "5. **Практичне застосування**: кожна структура даних має свої переваги:\n",
   "   - Дерева ефективні для ієрархічних даних\n",
   "   - Купи оптимальні для черг з пріоритетами\n",
   "   - Геш-таблиці забезпечують найшвидший доступ до даних за ключем\n",
   "\n",
   "Отримані знання та навички дозволяють обирати оптимальну структуру даних залежно від специфіки задачі та вимог до продуктивності."
  ]
 }
],
"metadata": {
 "kernelspec": {
  "display_name": "Python 3",
  "language": "python",
  "name": "python3"
 },
 "language_info": {
  "codemirror_mode": {
   "name": "ipython",
   "version": 3
  },
  "file_extension": ".py",
  "mimetype": "text/x-python",
  "name": "python",
  "nbconvert_exporter": "python",
  "pygments_lexer": "ipython3",
  "version": "3.8.5"
 }
},
"nbformat": 4,
"nbformat_minor": 5
}