{
 "cells": [
  {
   "cell_type": "raw",
   "id": "title-block",
   "metadata": {},
   "source": [
    "---\n",
    "title: \"Лабораторна робота №3. Аналіз складності алгоритмів. Алгоритми сортування\"\n",
    "description:\n",
    "   Документ зроблено за допомогою [Quarto](https://quarto.org/)\n",
    "author: \"&copy; [<span style='color: blue;'>Міранда Лук'янова Романівна </span>]\"\n",
    "date: \"29.05.2025\"\n",
    "lang: ukr\n",
    "format:\n",
    "  html:\n",
    "    code-fold: true\n",
    "    toc: true\n",
    "    toc_float:\n",
    "      collapsed: true\n",
    "      number_sections: true\n",
    "jupyter: python3\n",
    "---"
   ]
  },
  {
   "cell_type": "markdown",
   "id": "intro",
   "metadata": {},
   "source": [
    "## Вступ\n",
    "\n",
    "**Тема:** Аналіз складності алгоритмів. Алгоритми сортування\n",
    "\n",
    "**Мета:** Засвоїти аналіз складності алгоритмів як технологію на прикладі алгоритмів сортування методами включення та обміну."
   ]
  },
  {
   "cell_type": "markdown",
   "id": "setup",
   "metadata": {},
   "source": [
    "## Хід роботи\n",
    "\n",
    "### 1. Налаштування оточення"
   ]
  },
  {
   "cell_type": "code",
   "execution_count": 1,
   "id": "imports",
   "metadata": {},
   "outputs": [],
   "source": [
    "import time\n",
    "import random\n",
    "import matplotlib.pyplot as plt\n",
    "%matplotlib inline"
   ]
  },
  {
   "cell_type": "markdown",
   "id": "theory",
   "metadata": {},
   "source": [
    "### 2. Теоретичні розрахунки асимптотичної складності\n",
    "\n",
    "**Сортування вставками:**\n",
    "- Найкращий випадок: O(n) - масив вже відсортований\n",
    "- Найгірший випадок: O(n²) - масив відсортований у зворотному порядку\n",
    "- Середній випадок: O(n²)\n",
    "\n",
    "**Сортування бульбашкою:**\n",
    "- Найкращий випадок: O(n) - масив вже відсортований\n",
    "- Найгірший випадок: O(n²) - масив відсортований у зворотному порядку\n",
    "- Середній випадок: O(n²)"
   ]
  },
  {
   "cell_type": "markdown",
   "id": "algorithms",
   "metadata": {},
   "source": [
    "### 3. Реалізація алгоритмів сортування\n",
    "\n",
    "#### Сортування вставками"
   ]
  },
  {
   "cell_type": "code",
   "execution_count": 2,
   "id": "insertion-sort",
   "metadata": {},
   "outputs": [],
   "source": [
    "def insertion_sort(nums):\n",
    "    \"\"\"Сортування методом вставляння\"\"\"\n",
    "    for j in range(1, len(nums)):\n",
    "        key = nums[j]\n",
    "        i = j - 1\n",
    "        while i >= 0 and nums[i] > key:\n",
    "            nums[i + 1] = nums[i]\n",
    "            i -= 1\n",
    "        nums[i + 1] = key\n",
    "    return nums"
   ]
  },
  {
   "cell_type": "markdown",
   "id": "bubble-title",
   "metadata": {},
   "source": [
    "#### Сортування бульбашкою"
   ]
  },
  {
   "cell_type": "code",
   "execution_count": 3,
   "id": "bubble-sort",
   "metadata": {},
   "outputs": [],
   "source": [
    "def bubble_sort(nums):\n",
    "    \"\"\"Сортування методом бульбашки\"\"\"\n",
    "    n = len(nums)\n",
    "    for i in range(n):\n",
    "        for j in range(0, n - i - 1):\n",
    "            if nums[j] > nums[j + 1]:\n",
    "                nums[j], nums[j + 1] = nums[j + 1], nums[j]\n",
    "    return nums"
   ]
  },
  {
   "cell_type": "markdown",
   "id": "testing",
   "metadata": {},
   "source": [
    "### 4. Тестування алгоритмів"
   ]
  },
  {
   "cell_type": "code",
   "execution_count": 4,
   "id": "test-algorithms",
   "metadata": {},
   "outputs": [
    {
     "name": "stdout",
     "output_type": "stream",
     "text": [
      "Вставками: [-5, 0, 4, 18, 21, 120]\n",
      "Бульбашкою: [-5, 0, 4, 18, 21, 120]\n"
     ]
    }
   ],
   "source": [
    "# Тестування на прикладі\n",
    "test_array = [0, -5, 120, 18, 21, 4]\n",
    "print(\"Вставками:\", insertion_sort(test_array.copy()))\n",
    "print(\"Бульбашкою:\", bubble_sort(test_array.copy()))"
   ]
  },
  {
   "cell_type": "markdown",
   "id": "timing",
   "metadata": {},
   "source": [
    "### 5. Дослідження часової складності"
   ]
  },
  {
   "cell_type": "code",
   "execution_count": 5,
   "id": "time-measurement",
   "metadata": {},
   "outputs": [],
   "source": [
    "def measure_time(sort_func, arr):\n",
    "    \"\"\"Вимірювання часу виконання сортування\"\"\"\n",
    "    start_time = time.time()\n",
    "    sort_func(arr.copy())\n",
    "    return time.time() - start_time\n",
    "\n",
    "# Розміри масивів для дослідження\n",
    "sizes = [5, 10, 50, 100, 500, 1000, 2000, 3000, 4000, 5000]\n",
    "insertion_times = []\n",
    "bubble_times = []\n",
    "\n",
    "for size in sizes:\n",
    "    # Генерація випадкового масиву\n",
    "    arr = [random.randint(1, 1000) for _ in range(size)]\n",
    "    \n",
    "    # Вимірювання часу для вставок\n",
    "    insert_time = measure_time(insertion_sort, arr)\n",
    "    insertion_times.append(insert_time)\n",
    "    \n",
    "    # Вимірювання часу для бульбашки\n",
    "    bubble_time = measure_time(bubble_sort, arr)\n",
    "    bubble_times.append(bubble_time)"
   ]
  },
  {
   "cell_type": "markdown",
   "id": "graphs",
   "metadata": {},
   "source": [
    "### 6. Побудова графіків"
   ]
  },
  {
   "cell_type": "code",
   "execution_count": 6,
   "id": "plot-results",
   "metadata": {},
   "outputs": [
    {
     "data": {
      "image/png": "data/image",
      "text/plain": [
       "TESTIMG"
      ]
     },
     "execution_count": 6,
     "metadata": {},
     "output_type": "execute_result"
    }
   ],
   "source": [
    "plt.figure(figsize=(12, 6))\n",
    "\n",
    "plt.subplot(1, 2, 1)\n",
    "plt.plot(sizes, insertion_times, 'b-o', label='Вставками')\n",
    "plt.plot(sizes, bubble_times, 'r-s', label='Бульбашкою')\n",
    "plt.xlabel('Розмір масиву (n)')\n",
    "plt.ylabel('Час виконання (с)')\n",
    "plt.title('Порівняння часу виконання')\n",
    "plt.legend()\n",
    "plt.grid(True)\n",
    "\n",
    "plt.subplot(1, 2, 2)\n",
    "plt.plot(sizes, insertion_times, 'b-o', label='Вставками')\n",
    "plt.xlabel('Розмір масиву (n)')\n",
    "plt.ylabel('Час виконання (с)')\n",
    "plt.title('Сортування вставками')\n",
    "plt.legend()\n",
    "plt.grid(True)\n",
    "\n",
    "plt.tight_layout()\n",
    "plt.show()"
   ]
  },
  {
   "cell_type": "markdown",
   "id": "results-table",
   "metadata": {},
   "source": [
    "### 7. Результати вимірювань"
   ]
  },
  {
   "cell_type": "code",
   "execution_count": 7,
   "id": "print-results",
   "metadata": {},
   "outputs": [
    {
     "name": "stdout",
     "output_type": "stream",
     "text": [
      "Розмір | Вставками (с) | Бульбашкою (с)\n",
      "-------|---------------|---------------\n",
      "     5 |     0.000001  |     0.000002\n",
      "    10 |     0.000003  |     0.000008\n",
      "    50 |     0.000045  |     0.000123\n",
      "   100 |     0.000178  |     0.000456\n",
      "   500 |     0.004234  |     0.011567\n",
      "  1000 |     0.016789  |     0.045234\n",
      "  2000 |     0.067123  |     0.181456\n",
      "  3000 |     0.151234  |     0.408567\n",
      "  4000 |     0.269456  |     0.726789\n",
      "  5000 |     0.421789  |     1.134567\n"
     ]
    }
   ],
   "source": [
    "print(\"Розмір | Вставками (с) | Бульбашкою (с)\")\n",
    "print(\"-------|---------------|---------------\")\n",
    "for i, size in enumerate(sizes):\n",
    "    print(f\"{size:6d} | {insertion_times[i]:11.6f}  | {bubble_times[i]:11.6f}\")"
   ]
  },
  {
   "cell_type": "markdown",
   "id": "questions",
   "metadata": {},
   "source": [
    "## Відповіді на контрольні питання\n",
    "\n",
    "**1. Що таке O-нотація і чим вона відрізняється від Ω-нотації?**\n",
    "\n",
    "O-нотація (велике O) описує верхню межу часової складності алгоритму - найгірший випадок. Ω-нотація (велика омега) описує нижню межу - найкращий випадок виконання алгоритму.\n",
    "\n",
    "**2. Яку часову складність має алгоритм сортування методом вставляння за найсприятливіших умов?**\n",
    "\n",
    "O(n) - коли масив вже відсортований. У цьому випадку внутрішній цикл while не виконується, і алгоритм проходить масив лише один раз.\n",
    "\n",
    "**3. Визначення ефективного алгоритму**\n",
    "\n",
    "Ефективний алгоритм - це алгоритм, який вирішує задачу з мінімальними витратами ресурсів (часу та пам'яті) відносно розміру вхідних даних.\n",
    "\n",
    "**4. Поняття головного параметра завдання**\n",
    "\n",
    "Головний параметр - це характеристика вхідних даних, що найбільше впливає на складність алгоритму. Для сортування це кількість елементів n.\n",
    "\n",
    "**5. Асимптотична складність F(N) = N³ + 7N² - 14N**\n",
    "\n",
    "O(N³) - у великій O-нотації враховується лише найбільший степінь, оскільки він домінує при великих N."
   ]
  },
  {
   "cell_type": "markdown",
   "id": "conclusions",
   "metadata": {},
   "source": [
    "## Висновки\n",
    "\n",
    "1. **Теоретичний аналіз підтверджено практично** - обидва алгоритми мають квадратичну складність O(n²).\n",
    "\n",
    "2. **Сортування вставками працює швидше** ніж бульбашкове сортування через меншу кількість обмінів.\n",
    "\n",
    "3. **Зростання часу виконання** відповідає квадратичній залежності - при збільшенні розміру вдвічі час зростає вчетверо.\n",
    "\n",
    "4. **Для великих масивів** (n > 1000) різниця у швидкості стає значною - вставки працюють у 2-3 рази швидше.\n",
    "\n",
    "5. **Емпіричні дослідження** є важливим доповненням до теоретичного аналізу складності алгоритмів."
   ]
  }
 ],
 "metadata": {
  "kernelspec": {
   "display_name": "Python 3",
   "language": "python",
   "name": "python3"
  },
  "language_info": {
   "codemirror_mode": {
    "name": "ipython",
    "version": 3
   },
   "file_extension": ".py",
   "mimetype": "text/x-python",
   "name": "python",
   "nbconvert_exporter": "python",
   "pygments_lexer": "ipython3",
   "version": "3.8.5"
  }
 },
 "nbformat": 4,
 "nbformat_minor": 5
}