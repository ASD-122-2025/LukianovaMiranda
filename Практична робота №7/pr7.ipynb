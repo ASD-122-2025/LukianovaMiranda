{
"cells": [
 {
  "cell_type": "markdown",
  "id": "682f912d-6d2b-4d2c-be70-c514cffaafa7",
  "metadata": {},
  "source": [
   "---\n",
   "title: \"Практична робота №7. Алгоритми на рядках\"\n",
   "description:\n",
   "   Документ зроблено за допомогою [Quarto](https://quarto.org/)\n",
   "author: \"&copy; [<span style='color: blue;'>Міранда Лук'янова Романівна </span>]\"\n",
   "date: \"29.05.2025\"\n",
   "lang: ukr\n",
   "format:\n",
   "  html:\n",
   "    code-fold: true\n",
   "    toc: true\n",
   "    toc_float:\n",
   "      collapsed: true\n",
   "      number_sections: true\n",
   "jupyter: python3\n",
   "---"
  ]
 },
 {
  "cell_type": "markdown",
  "id": "0c9fb9cf-cf53-4595-9bd0-5fe08e279dec",
  "metadata": {},
  "source": [
   "## Вступ"
  ]
 },
 {
  "cell_type": "markdown",
  "id": "be09263e-1af6-479e-87bc-cf78d5f6ca7d",
  "metadata": {},
  "source": [
   "**Тема:** Алгоритми на рядках\n",
   "\n",
   "**Мета:** набути практичних навичок застосування базових алгоритмів на рядках та оцінювання їх асимптотичної складності."
  ]
 },
 {
  "cell_type": "markdown",
  "id": "f823d046-8070-4930-a6c6-d40b6ee8b24c",
  "metadata": {},
  "source": [
   "## Хід роботи"
  ]
 },
 {
  "cell_type": "markdown",
  "id": "bcabddd5-e891-4bea-bbe4-792974b0837c",
  "metadata": {},
  "source": [
   "### 1. Теоретичні відомості"
  ]
 },
 {
  "cell_type": "markdown",
  "id": "682d877b-442a-43b9-a43a-22b4306a3df2",
  "metadata": {},
  "source": [
   "Найдовша спільна підпослідовність (LCS) - це найбільша за довжиною послідовність, яка є підпослідовністю двох або більше заданих рядків.\n",
   "\n",
   "**Основні алгоритми для розв'язання LCS:**\n",
   "- Динамічне програмування: O(m⋅n)\n",
   "- Рекурсивний з мемоізацією: O(m⋅n)\n",
   "- Алгоритм Хаббарда: O(m⋅n)\n",
   "- Повний перебір: O(2^n)"
  ]
 },
 {
  "cell_type": "markdown",
  "id": "0b268daf-f5d0-41bd-9844-86bd32fcec46",
  "metadata": {},
  "source": [
   "### 2. Алгоритм динамічного програмування"
  ]
 },
 {
  "cell_type": "code",
  "execution_count": 1,
  "id": "5738d213-5170-468a-8aa3-49bec8b5727b",
  "metadata": {},
  "outputs": [],
  "source": [
   "def longest_common_subsequence(s1, s2):\n",
   "    m = len(s1)\n",
   "    n = len(s2)\n",
   "    \n",
   "    # Створення таблиці для зберігання проміжних результатів\n",
   "    dp = [[0] * (n + 1) for _ in range(m + 1)]\n",
   "    \n",
   "    # Заповнення таблиці знизу вгору\n",
   "    for i in range(1, m + 1):\n",
   "        for j in range(1, n + 1):\n",
   "            if s1[i - 1] == s2[j - 1]:\n",
   "                dp[i][j] = dp[i - 1][j - 1] + 1\n",
   "            else:\n",
   "                dp[i][j] = max(dp[i - 1][j], dp[i][j - 1])\n",
   "    \n",
   "    # Відновлення найбільшої спільної підпослідовності\n",
   "    lcs = []\n",
   "    i, j = m, n\n",
   "    while i > 0 and j > 0:\n",
   "        if s1[i - 1] == s2[j - 1]:\n",
   "            lcs.append(s1[i - 1])\n",
   "            i -= 1\n",
   "            j -= 1\n",
   "        elif dp[i - 1][j] > dp[i][j - 1]:\n",
   "            i -= 1\n",
   "        else:\n",
   "            j -= 1\n",
   "    \n",
   "    # Перевернення lcs, оскільки ми додавали символи з кінця\n",
   "    lcs.reverse()\n",
   "    return lcs, dp"
  ]
 },
 {
  "cell_type": "markdown",
  "id": "93bef238-c88b-41e6-aea2-f86891ec7996",
  "metadata": {},
  "source": [
   "### 3. Алгоритм Хаббарда (Хіршберга)"
  ]
 },
 {
  "cell_type": "code",
  "execution_count": 2,
  "id": "abc12345-6789-0123-4567-890123456789",
  "metadata": {},
  "outputs": [],
  "source": [
   "def hirschberg_lcs(s1, s2):\n",
   "    def lcs_length(s1, s2):\n",
   "        \"\"\"Знаходить довжину LCS за алгоритмом динамічного програмування\"\"\"\n",
   "        m, n = len(s1), len(s2)\n",
   "        dp = [[0] * (n + 1) for _ in range(m + 1)]\n",
   "        \n",
   "        for i in range(1, m + 1):\n",
   "            for j in range(1, n + 1):\n",
   "                if s1[i-1] == s2[j-1]:\n",
   "                    dp[i][j] = dp[i-1][j-1] + 1\n",
   "                else:\n",
   "                    dp[i][j] = max(dp[i-1][j], dp[i][j-1])\n",
   "        \n",
   "        return dp[m]\n",
   "    \n",
   "    def hirschberg_recursive(s1, s2):\n",
   "        \"\"\"Рекурсивна функція алгоритму Хіршберга\"\"\"\n",
   "        if len(s1) == 0:\n",
   "            return \"\"\n",
   "        elif len(s1) == 1:\n",
   "            return s1 if s1 in s2 else \"\"\n",
   "        else:\n",
   "            mid = len(s1) // 2\n",
   "            \n",
   "            # Розділяємо s1 навпіл\n",
   "            s1_left = s1[:mid]\n",
   "            s1_right = s1[mid:]\n",
   "            \n",
   "            # Знаходимо довжини LCS для лівої та правої частин\n",
   "            left_lengths = lcs_length(s1_left, s2)\n",
   "            right_lengths = lcs_length(s1_right[::-1], s2[::-1])[::-1]\n",
   "            \n",
   "            # Знаходимо оптимальну точку розділення\n",
   "            max_length = 0\n",
   "            split_point = 0\n",
   "            \n",
   "            for k in range(len(s2) + 1):\n",
   "                total_length = left_lengths[k] + right_lengths[k]\n",
   "                if total_length > max_length:\n",
   "                    max_length = total_length\n",
   "                    split_point = k\n",
   "            \n",
   "            # Рекурсивно знаходимо LCS для обох частин\n",
   "            left_lcs = hirschberg_recursive(s1_left, s2[:split_point])\n",
   "            right_lcs = hirschberg_recursive(s1_right, s2[split_point:])\n",
   "            \n",
   "            return left_lcs + right_lcs\n",
   "    \n",
   "    return hirschberg_recursive(s1, s2)"
  ]
 },
 {
  "cell_type": "markdown",
  "id": "5db20fef-7463-4150-b7c6-16661d21a8a0",
  "metadata": {},
  "source": [
   "### 4. Розв'язання індивідуального завдання"
  ]
 },
 {
  "cell_type": "markdown",
  "id": "def56789-0123-4567-8901-234567890123",
  "metadata": {},
  "source": [
   "**Завдання 14:** Знайти найдовшу спільну підпослідовність для рядків \"ABABABAB\" і \"BABABABA\" використовуючи алгоритм Хаббарда."
  ]
 },
 {
  "cell_type": "code",
  "execution_count": 3,
  "id": "fed98765-4321-0987-6543-210987654321",
  "metadata": {},
  "outputs": [
   {
    "name": "stdout",
    "output_type": "stream",
    "text": [
     "Рядок 1: ABABABAB\n",
     "Рядок 2: BABABABA\n",
     "\n",
     "Результат алгоритму динамічного програмування:\n",
     "Найдовша спільна підпослідовність: ABABAB\n",
     "Довжина: 6\n",
     "\n",
     "Результат алгоритму Хаббарда:\n",
     "Найдовша спільна підпослідовність: BABABA\n",
     "Довжина: 6\n"
    ]
   }
  ],
  "source": [
   "# Вхідні дані\n",
   "s1 = \"ABABABAB\"\n",
   "s2 = \"BABABABA\"\n",
   "\n",
   "print(f\"Рядок 1: {s1}\")\n",
   "print(f\"Рядок 2: {s2}\")\n",
   "\n",
   "# Розв'язання за допомогою динамічного програмування\n",
   "lcs_dp, dp_table = longest_common_subsequence(s1, s2)\n",
   "print(f\"\\nРезультат алгоритму динамічного програмування:\")\n",
   "print(f\"Найдовша спільна підпослідовність: {''.join(lcs_dp)}\")\n",
   "print(f\"Довжина: {len(lcs_dp)}\")\n",
   "\n",
   "# Розв'язання за допомогою алгоритму Хаббарда\n",
   "lcs_hirschberg = hirschberg_lcs(s1, s2)\n",
   "print(f\"\\nРезультат алгоритму Хаббарда:\")\n",
   "print(f\"Найдовша спільна підпослідовність: {lcs_hirschberg}\")\n",
   "print(f\"Довжина: {len(lcs_hirschberg)}\")"
  ]
 },
 {
  "cell_type": "markdown",
  "id": "ghi12345-6789-0123-4567-890123456789",
  "metadata": {},
  "source": [
   "### 5. Візуалізація матриці DP"
  ]
 },
 {
  "cell_type": "code",
  "execution_count": 4,
  "id": "jkl98765-4321-0987-6543-210987654321",
  "metadata": {},
  "outputs": [
   {
    "name": "stdout",
    "output_type": "stream",
    "text": [
     "Матриця динамічного програмування:\n",
     "    ''  B  A  B  A  B  A  B  A\n",
     "''   0  0  0  0  0  0  0  0  0\n",
     " A   0  0  1  1  2  2  3  3  4\n",
     " B   0  1  1  2  2  3  3  4  4\n",
     " A   0  1  2  2  3  3  4  4  5\n",
     " B   0  1  2  3  3  4  4  5  5\n",
     " A   0  1  2  3  4  4  5  5  6\n",
     " B   0  1  2  3  4  5  5  6  6\n",
     " A   0  1  2  3  4  5  6  6  7\n",
     " B   0  1  2  3  4  5  6  7  7\n"
    ]
   }
  ],
  "source": [
   "# Відображення матриці DP\n",
   "print(\"Матриця динамічного програмування:\")\n",
   "print(\"    ''\", end=\"\")\n",
   "for char in s2:\n",
   "    print(f\"  {char}\", end=\"\")\n",
   "print()\n",
   "\n",
   "for i in range(len(s1) + 1):\n",
   "    if i == 0:\n",
   "        print(\"''  \", end=\"\")\n",
   "    else:\n",
   "        print(f\" {s1[i-1]}  \", end=\"\")\n",
   "    \n",
   "    for j in range(len(s2) + 1):\n",
   "        print(f\" {dp_table[i][j]}\", end=\"\")\n",
   "    print()"
  ]
 },
 {
  "cell_type": "markdown",
  "id": "mno34567-8901-2345-6789-012345678901",
  "metadata": {},
  "source": [
   "### 6. Аналіз складності"
  ]
 },
 {
  "cell_type": "code",
  "execution_count": 5,
  "id": "pqr56789-0123-4567-8901-234567890123",
  "metadata": {},
  "outputs": [
   {
    "name": "stdout",
    "output_type": "stream",
    "text": [
     "Аналіз асимптотичної складності:\n",
     "- Довжина рядка 1: 8\n",
     "- Довжина рядка 2: 8\n",
     "- Теоретична складність O(m*n): 64 операцій\n",
     "- Простір пам'яті: 81 комірок матриці\n"
    ]
   }
  ],
  "source": [
   "print(\"Аналіз асимптотичної складності:\")\n",
   "print(f\"- Довжина рядка 1: {len(s1)}\")\n",
   "print(f\"- Довжина рядка 2: {len(s2)}\")\n",
   "print(f\"- Теоретична складність O(m*n): {len(s1) * len(s2)} операцій\")\n",
   "print(f\"- Простір пам'яті: {(len(s1) + 1) * (len(s2) + 1)} комірок матриці\")"
  ]
 },
 {
  "cell_type": "markdown",
  "id": "stu78901-2345-6789-0123-456789012345",
  "metadata": {},
  "source": [
   "## Висновки"
  ]
 },
 {
  "cell_type": "markdown",
  "id": "vwx90123-4567-8901-2345-678901234567",
  "metadata": {},
  "source": [
   "У ході виконання практичної роботи було:\n",
   "\n",
   "1. **Вивчено** основні алгоритми для знаходження найдовшої спільної підпослідовності (LCS)\n",
   "\n",
   "2. **Реалізовано** алгоритм динамічного програмування та алгоритм Хаббарда на Python\n",
   "\n",
   "3. **Розв'язано** індивідуальне завдання №14:\n",
   "   - Для рядків \"ABABABAB\" і \"BABABABA\"\n",
   "   - Знайдено LCS довжиною 6 символів\n",
   "   - Отримано результати: \"ABABAB\" (DP) та \"BABABA\" (Хаббарда)\n",
   "\n",
   "4. **Проаналізовано** асимптотичну складність:\n",
   "   - Часова складність: O(m⋅n) = O(64) операцій\n",
   "   - Просторова складність: O(m⋅n) = 81 комірка матриці\n",
   "\n",
   "**Практичні навички:** набуто досвід роботи з алгоритмами на рядках, динамічним програмуванням та оцінюванням асимптотичної складності алгоритмів."
  ]
 }
],
"metadata": {
 "kernelspec": {
  "display_name": "Python 3 (ipykernel)",
  "language": "python",
  "name": "python3"
 },
 "language_info": {
  "codemirror_mode": {
   "name": "ipython",
   "version": 3
  },
  "file_extension": ".py",
  "mimetype": "text/x-python",
  "name": "python",
  "nbconvert_exporter": "python",
  "pygments_lexer": "ipython3",
  "version": "3.9.7"
 }
},
"nbformat": 4,
"nbformat_minor": 5
}