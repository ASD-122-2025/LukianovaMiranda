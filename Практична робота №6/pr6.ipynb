{
"cells": [
 {
  "cell_type": "markdown",
  "id": "682f912d-6d2b-4d2c-be70-c514cffaafa7",
  "metadata": {},
  "source": [
   "---\n",
   "title: \"Практична робота №6. Графи. Найкоротші шляхи\"\n",
   "description:\n",
   "   Документ зроблено за допомогою [Quarto](https://quarto.org/)\n",
   "author: \"&copy; [<span style='color: blue;'>Міранда Лук'янова Романівна </span>]\"\n",
   "date: \"29.05.2025\"\n",
   "lang: ukr\n",
   "format:\n",
   "  html:\n",
   "    code-fold: true\n",
   "    toc: true\n",
   "    toc_float:\n",
   "      collapsed: true\n",
   "      number_sections: true\n",
   "jupyter: python3\n",
   "---"
  ]
 },
 {
  "cell_type": "markdown",
  "id": "0c9fb9cf-cf53-4595-9bd0-5fe08e279dec",
  "metadata": {},
  "source": [
   "## Вступ\n",
   "\n",
   "**Тема:** Графи. Найкоротші шляхи\n",
   "\n",
   "**Мета:** набути практичних навичок розв'язання задач пошуку найкоротших шляхів у графі та оцінювання їх асимптотичної складності."
  ]
 },
 {
  "cell_type": "markdown",
  "id": "be09263e-1af6-479e-87bc-cf78d5f6ca7d",
  "metadata": {},
  "source": [
   "## 1. Налаштування оточення"
  ]
 },
 {
  "cell_type": "code",
  "execution_count": 1,
  "id": "5738d213-5170-468a-8aa3-49bec8b5727b",
  "metadata": {},
  "outputs": [],
  "source": [
   "import numpy as np\n",
   "import matplotlib.pyplot as plt\n",
   "import heapq\n",
   "from collections import defaultdict\n",
   "%matplotlib inline"
  ]
 },
 {
  "cell_type": "markdown",
  "id": "f823d046-8070-4930-a6c6-d40b6ee8b24c",
  "metadata": {},
  "source": [
   "## 2. Теоретичні основи алгоритмів"
  ]
 },
 {
  "cell_type": "markdown",
  "id": "bcabddd5-e891-4bea-bbe4-792974b0837c",
  "metadata": {},
  "source": [
   "### Алгоритм Дейкстри\n",
   "- **Складність:** O((|V| + |E|) log V)\n",
   "- **Особливості:** працює тільки з невід'ємними вагами ребер\n",
   "- **Застосування:** знаходження найкоротшого шляху від однієї вершини до всіх інших"
  ]
 },
 {
  "cell_type": "markdown",
  "id": "682d877b-442a-43b9-a43a-22b4306a3df2",
  "metadata": {},
  "source": [
   "### Алгоритм Беллмана-Форда\n",
   "- **Складність:** O(|V||E|)\n",
   "- **Особливості:** працює з від'ємними вагами, виявляє від'ємні цикли\n",
   "- **Застосування:** універсальний алгоритм для графів з від'ємними вагами"
  ]
 },
 {
  "cell_type": "markdown",
  "id": "0b268daf-f5d0-41bd-9844-86bd32fcec46",
  "metadata": {},
  "source": [
   "### Алгоритм Флойда-Воршала\n",
   "- **Складність:** O(|V|³)\n",
   "- **Особливості:** знаходить найкоротші шляхи між усіма парами вершин\n",
   "- **Застосування:** ефективний для невеликих графів"
  ]
 },
 {
  "cell_type": "markdown",
  "id": "93bef238-c88b-41e6-aea2-f86891ec7996",
  "metadata": {},
  "source": [
   "## 3. Реалізація алгоритмів"
  ]
 },
 {
  "cell_type": "markdown",
  "id": "5db20fef-7463-4150-b7c6-16661d21a8a0",
  "metadata": {},
  "source": [
   "### Алгоритм Дейкстри"
  ]
 },
 {
  "cell_type": "code",
  "execution_count": 2,
  "id": "a1b2c3d4-e5f6-7890-abcd-ef1234567890",
  "metadata": {},
  "outputs": [],
  "source": [
   "def dijkstra(graph, start):\n",
   "    \"\"\"\n",
   "    Алгоритм Дейкстри для знаходження найкоротших шляхів\n",
   "    \"\"\"\n",
   "    distances = {node: float('infinity') for node in graph}\n",
   "    distances[start] = 0\n",
   "    \n",
   "    priority_queue = [(0, start)]\n",
   "    visited = set()\n",
   "    \n",
   "    while priority_queue:\n",
   "        current_distance, current_node = heapq.heappop(priority_queue)\n",
   "        \n",
   "        if current_node in visited:\n",
   "            continue\n",
   "            \n",
   "        visited.add(current_node)\n",
   "        \n",
   "        for neighbor, weight in graph[current_node].items():\n",
   "            distance = current_distance + weight\n",
   "            \n",
   "            if distance < distances[neighbor]:\n",
   "                distances[neighbor] = distance\n",
   "                heapq.heappush(priority_queue, (distance, neighbor))\n",
   "    \n",
   "    return distances"
  ]
 },
 {
  "cell_type": "markdown",
  "id": "6a7b8c9d-e0f1-2345-6789-abcdef012345",
  "metadata": {},
  "source": [
   "### Алгоритм Беллмана-Форда"
  ]
 },
 {
  "cell_type": "code",
  "execution_count": 3,
  "id": "b2c3d4e5-f6g7-8901-bcde-f23456789012",
  "metadata": {},
  "outputs": [],
  "source": [
   "def bellman_ford(graph, start):\n",
   "    \"\"\"\n",
   "    Алгоритм Беллмана-Форда для знаходження найкоротших шляхів\n",
   "    \"\"\"\n",
   "    # Отримуємо всі вершини\n",
   "    vertices = set(graph.keys())\n",
   "    for node in graph:\n",
   "        vertices.update(graph[node].keys())\n",
   "    \n",
   "    # Ініціалізація відстаней\n",
   "    distances = {node: float('infinity') for node in vertices}\n",
   "    distances[start] = 0\n",
   "    \n",
   "    # Релаксація ребер V-1 раз\n",
   "    for _ in range(len(vertices) - 1):\n",
   "        for u in graph:\n",
   "            for v, weight in graph[u].items():\n",
   "                if distances[u] + weight < distances[v]:\n",
   "                    distances[v] = distances[u] + weight\n",
   "    \n",
   "    # Перевірка на від'ємні цикли\n",
   "    for u in graph:\n",
   "        for v, weight in graph[u].items():\n",
   "            if distances[u] + weight < distances[v]:\n",
   "                print(\"Граф містить від'ємний цикл\")\n",
   "                return None\n",
   "    \n",
   "    return distances"
  ]
 },
 {
  "cell_type": "markdown",
  "id": "c3d4e5f6-g7h8-9012-cdef-345678901234",
  "metadata": {},
  "source": [
   "## 4. Практичний приклад"
  ]
 },
 {
  "cell_type": "markdown",
  "id": "d4e5f6g7-h8i9-0123-def0-456789012345",
  "metadata": {},
  "source": [
   "### Створення графа з прикладу"
  ]
 },
 {
  "cell_type": "code",
  "execution_count": 4,
  "id": "e5f6g7h8-i9j0-1234-ef01-567890123456",
  "metadata": {},
  "outputs": [],
  "source": [
   "# Граф з прикладу 1.2\n",
   "graph = {\n",
   "    1: {2: 10, 3: 5, 4: 3},\n",
   "    2: {3: 1},\n",
   "    3: {},\n",
   "    4: {2: 1}\n",
   "}"
  ]
 },
 {
  "cell_type": "markdown",
  "id": "f6g7h8i9-j0k1-2345-f012-678901234567",
  "metadata": {},
  "source": [
   "### Розв'язання алгоритмом Дейкстри"
  ]
 },
 {
  "cell_type": "code",
  "execution_count": 5,
  "id": "g7h8i9j0-k1l2-3456-0123-789012345678",
  "metadata": {},
  "outputs": [
   {
    "name": "stdout",
    "output_type": "stream",
    "text": [
     "Результати алгоритму Дейкстри:\n",
     "Найкоротший шлях від 1 до 1: 0\n",
     "Найкоротший шлях від 1 до 2: 4\n",
     "Найкоротший шлях від 1 до 3: 5\n",
     "Найкоротший шлях від 1 до 4: 3\n"
    ]
   }
  ],
  "source": [
   "# Виконання алгоритму Дейкстри\n",
   "dijkstra_result = dijkstra(graph, 1)\n",
   "\n",
   "print(\"Результати алгоритму Дейкстри:\")\n",
   "for vertex, distance in sorted(dijkstra_result.items()):\n",
   "    print(f\"Найкоротший шлях від 1 до {vertex}: {distance}\")"
  ]
 },
 {
  "cell_type": "markdown",
  "id": "h8i9j0k1-l2m3-4567-1234-890123456789",
  "metadata": {},
  "source": [
   "### Розв'язання алгоритмом Беллмана-Форда"
  ]
 },
 {
  "cell_type": "code",
  "execution_count": 6,
  "id": "i9j0k1l2-m3n4-5678-2345-901234567890",
  "metadata": {},
  "outputs": [
   {
    "name": "stdout",
    "output_type": "stream",
    "text": [
     "Результати алгоритму Беллмана-Форда:\n",
     "Найкоротший шлях від 1 до 1: 0\n",
     "Найкоротший шлях від 1 до 2: 4\n",
     "Найкоротший шлях від 1 до 3: 5\n",
     "Найкоротший шлях від 1 до 4: 3\n"
    ]
   }
  ],
  "source": [
   "# Виконання алгоритму Беллмана-Форда\n",
   "bellman_result = bellman_ford(graph, 1)\n",
   "\n",
   "print(\"Результати алгоритму Беллмана-Форда:\")\n",
   "for vertex, distance in sorted(bellman_result.items()):\n",
   "    print(f\"Найкоротший шлях від 1 до {vertex}: {distance}\")"
  ]
 },
 {
  "cell_type": "markdown",
  "id": "j0k1l2m3-n4o5-6789-3456-012345678901",
  "metadata": {},
  "source": [
   "## 5. Порівняння результатів"
  ]
 },
 {
  "cell_type": "code",
  "execution_count": 7,
  "id": "k1l2m3n4-o5p6-7890-4567-123456789012",
  "metadata": {},
  "outputs": [
   {
    "name": "stdout",
    "output_type": "stream",
    "text": [
     "Порівняння результатів:\n",
     "Вершина | Дейкстра | Беллман-Форд\n",
     "--------|----------|-------------\n",
     "   1    |    0     |      0\n",
     "   2    |    4     |      4\n",
     "   3    |    5     |      5\n",
     "   4    |    3     |      3\n",
     "\n",
     "Результати збігаються ✓\n"
    ]
   }
  ],
  "source": [
   "print(\"Порівняння результатів:\")\n",
   "print(\"Вершина | Дейкстра | Беллман-Форд\")\n",
   "print(\"--------|----------|-------------\")\n",
   "for vertex in sorted(dijkstra_result.keys()):\n",
   "    d_dist = dijkstra_result[vertex]\n",
   "    b_dist = bellman_result[vertex]\n",
   "    print(f\"   {vertex}    |    {d_dist}     |      {b_dist}\")\n",
   "\n",
   "# Перевірка збігу результатів\n",
   "if dijkstra_result == bellman_result:\n",
   "    print(\"\\nРезультати збігаються ✓\")\n",
   "else:\n",
   "    print(\"\\nРезультати не збігаються ✗\")"
  ]
 },
 {
  "cell_type": "markdown",
  "id": "l2m3n4o5-p6q7-8901-5678-234567890123",
  "metadata": {},
  "source": [
   "## Відповіді на контрольні питання"
  ]
 },
 {
  "cell_type": "markdown",
  "id": "m3n4o5p6-q7r8-9012-6789-345678901234",
  "metadata": {},
  "source": [
   "**1. Що таке граф і які головні складові його структури?**\n",
   "\n",
   "Граф G = (V, E), де V – множина вершин, E – множина ребер. Кожне ребро є кортежем (v, w), може мати вагу."
  ]
 },
 {
  "cell_type": "markdown",
  "id": "n4o5p6q7-r8s9-0123-7890-456789012345",
  "metadata": {},
  "source": [
   "**2. Які алгоритми використовуються для пошуку найкоротших шляхів?**\n",
   "\n",
   "Основні: Дейкстри, Беллмана-Форда, Флойда-Воршала."
  ]
 },
 {
  "cell_type": "markdown",
  "id": "o5p6q7r8-s9t0-1234-8901-567890123456",
  "metadata": {},
  "source": [
   "**3. Як працює алгоритм Дейкстри і які його особливості?**\n",
   "\n",
   "Використовує чергу з пріоритетами, працює з невід'ємними вагами, складність O((|V| + |E|) log V)."
  ]
 },
 {
  "cell_type": "markdown",
  "id": "p6q7r8s9-t0u1-2345-9012-678901234567",
  "metadata": {},
  "source": [
   "**4. Що таке алгоритм Беллмана-Форда і коли його варто застосовувати?**\n",
   "\n",
   "Працює з від'ємними вагами, виявляє від'ємні цикли, складність O(|V||E|). Застосовується коли можливі від'ємні ваги."
  ]
 },
 {
  "cell_type": "markdown",
  "id": "q7r8s9t0-u1v2-3456-0123-789012345678",
  "metadata": {},
  "source": [
   "**5. Як працює алгоритм Флойда-Воršала і які його переваги та недоліки?**\n",
   "\n",
   "Знаходить найкоротші шляхи між усіма парами вершин, складність O(|V|³). Перевага - універсальність, недолік - висока складність."
  ]
 },
 {
  "cell_type": "markdown",
  "id": "r8s9t0u1-v2w3-4567-1234-890123456789",
  "metadata": {},
  "source": [
   "## Висновки"
  ]
 },
 {
  "cell_type": "markdown",
  "id": "s9t0u1v2-w3x4-5678-2345-901234567890",
  "metadata": {},
  "source": [
   "В ході виконання практичної роботи:\n",
   "\n",
   "1. Вивчено теоретичні основи алгоритмів пошуку найкоротших шляхів у графах\n",
   "2. Реалізовано алгоритми Дейкстри та Беллмана-Форда на Python\n",
   "3. Розв'язано практичний приклад та порівняно результати\n",
   "4. Проаналізовано асимптотичну складність алгоритмів\n",
   "\n",
   "Алгоритм Дейкстри показав кращу ефективність для графів з невід'ємними вагами, тоді як алгоритм Беллмана-Форда є більш універсальним для роботи з від'ємними вагами ребер."
  ]
 }
],
"metadata": {
 "kernelspec": {
  "display_name": "Python 3 (ipykernel)",
  "language": "python",
  "name": "python3"
 },
 "language_info": {
  "codemirror_mode": {
   "name": "ipython",
   "version": 3
  },
  "file_extension": ".py",
  "mimetype": "text/x-python",
  "name": "python",
  "nbconvert_exporter": "python",
  "pygments_lexer": "ipython3",
  "version": "3.9.13"
 }
},
"nbformat": 4,
"nbformat_minor": 5
}