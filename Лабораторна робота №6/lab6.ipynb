{
"cells": [
 {
  "cell_type": "raw",
  "id": "metadata-cell",
  "metadata": {},
  "source": [
   "---\n",
   "title: \"Лабораторна робота №6. Структури даних стек і черга\"\n",
   "description:\n",
   "   Документ зроблено за допомогою [Quarto](https://quarto.org/)\n",
   "author: \"&copy; [<span style='color: blue;'>Міранда Лук'янова Романівна </span>]\"\n",
   "date: \"29.05.2025\"\n",
   "lang: ukr\n",
   "format:\n",
   "  html:\n",
   "    code-fold: true\n",
   "    toc: true\n",
   "    toc_float:\n",
   "      collapsed: true\n",
   "      number_sections: true\n",
   "jupyter: python3\n",
   "---"
  ]
 },
 {
  "cell_type": "markdown",
  "id": "intro-header",
  "metadata": {},
  "source": [
   "## Вступ\n",
   "\n",
   "**Тема:** Структури даних стек і черга\n",
   "\n",
   "**Мета:** засвоїти головні функції та алгоритми роботи зі стеком і чергою засобами Python."
  ]
 },
 {
  "cell_type": "markdown",
  "id": "theory-section",
  "metadata": {},
  "source": [
   "## Теоретичні відомості\n",
   "\n",
   "### Стек\n",
   "Стек – структура даних з принципом LIFO (Last In First Out). Останній елемент, доданий до стеку, видаляється першим.\n",
   "\n",
   "### Черга\n",
   "Черга – структура даних з принципом FIFO (First In First Out). Перший елемент, доданий до черги, видаляється першим."
  ]
 },
 {
  "cell_type": "markdown",
  "id": "work-process",
  "metadata": {},
  "source": [
   "## Хід роботи"
  ]
 },
 {
  "cell_type": "markdown",
  "id": "stack-implementation",
  "metadata": {},
  "source": [
   "### 1. Реалізація стеку"
  ]
 },
 {
  "cell_type": "code",
  "execution_count": null,
  "id": "stack-class",
  "metadata": {},
  "outputs": [],
  "source": [
   "class Stack:\n",
   "    def __init__(self):\n",
   "        self.items = []\n",
   "    \n",
   "    def isEmpty(self):\n",
   "        return self.items == []\n",
   "    \n",
   "    def push(self, item):\n",
   "        self.items.append(item)\n",
   "    \n",
   "    def pop(self):\n",
   "        return self.items.pop()\n",
   "    \n",
   "    def peek(self):\n",
   "        return self.items[-1]\n",
   "    \n",
   "    def size(self):\n",
   "        return len(self.items)"
  ]
 },
 {
  "cell_type": "markdown",
  "id": "stack-demo",
  "metadata": {},
  "source": [
   "### Демонстрація роботи стеку"
  ]
 },
 {
  "cell_type": "code",
  "execution_count": null,
  "id": "stack-example",
  "metadata": {},
  "outputs": [],
  "source": [
   "s = Stack()\n",
   "s.push('hello')\n",
   "s.push('true')\n",
   "print(f\"Видалено зі стеку: {s.pop()}\")\n",
   "print(f\"Видалено зі стеку: {s.pop()}\")"
  ]
 },
 {
  "cell_type": "markdown",
  "id": "stack-popn",
  "metadata": {},
  "source": [
   "### Функція pop_n() для стеку"
  ]
 },
 {
  "cell_type": "code",
  "execution_count": null,
  "id": "pop-n-function",
  "metadata": {},
  "outputs": [],
  "source": [
   "def pop_n(stack, n):\n",
   "    \"\"\"Видаляє n елементів з початку стеку\"\"\"\n",
   "    for i in range(n):\n",
   "        if not stack.isEmpty():\n",
   "            stack.pop()\n",
   "        else:\n",
   "            break\n",
   "\n",
   "# Тест функції\n",
   "test_stack = Stack()\n",
   "for i in range(5):\n",
   "    test_stack.push(i)\n",
   "    \n",
   "print(f\"Розмір стеку до видалення: {test_stack.size()}\")\n",
   "pop_n(test_stack, 3)\n",
   "print(f\"Розмір стеку після видалення 3 елементів: {test_stack.size()}\")"
  ]
 },
 {
  "cell_type": "markdown",
  "id": "queue-implementation",
  "metadata": {},
  "source": [
   "### 2. Реалізація черги"
  ]
 },
 {
  "cell_type": "code",
  "execution_count": null,
  "id": "queue-class",
  "metadata": {},
  "outputs": [],
  "source": [
   "class Queue:\n",
   "    def __init__(self):\n",
   "        self.items = []\n",
   "    \n",
   "    def isEmpty(self):\n",
   "        return self.items == []\n",
   "    \n",
   "    def enqueue(self, item):\n",
   "        self.items.insert(0, item)\n",
   "    \n",
   "    def dequeue(self):\n",
   "        return self.items.pop()\n",
   "    \n",
   "    def size(self):\n",
   "        return len(self.items)"
  ]
 },
 {
  "cell_type": "markdown",
  "id": "queue-demo",
  "metadata": {},
  "source": [
   "### Демонстрація роботи черги"
  ]
 },
 {
  "cell_type": "code",
  "execution_count": null,
  "id": "queue-example",
  "metadata": {},
  "outputs": [],
  "source": [
   "q = Queue()\n",
   "print(f\"Черга пуста: {q.isEmpty()}\")\n",
   "q.enqueue(2)\n",
   "q.enqueue(5)\n",
   "print(f\"Черга пуста: {q.isEmpty()}\")\n",
   "print(f\"Розмір черги: {q.size()}\")\n",
   "print(f\"Елементи черги: {q.items}\")"
  ]
 },
 {
  "cell_type": "markdown",
  "id": "queue-printn",
  "metadata": {},
  "source": [
   "### Функція print_n() для черги"
  ]
 },
 {
  "cell_type": "code",
  "execution_count": null,
  "id": "print-n-function",
  "metadata": {},
  "outputs": [],
  "source": [
   "def print_n(queue, n):\n",
   "    \"\"\"Друкує n елементів з початку черги\"\"\"\n",
   "    elements_to_print = min(n, queue.size())\n",
   "    print(\"Елементи черги з початку:\")\n",
   "    for i in range(elements_to_print):\n",
   "        print(queue.items[-(i+1)])\n",
   "\n",
   "# Тест функції\n",
   "test_queue = Queue()\n",
   "for i in range(5):\n",
   "    test_queue.enqueue(f\"elem_{i}\")\n",
   "    \n",
   "print_n(test_queue, 3)"
  ]
 },
 {
  "cell_type": "markdown",
  "id": "complexity-analysis",
  "metadata": {},
  "source": [
   "### 3. Аналіз асимптотичної складності\n",
   "\n",
   "#### Стек:\n",
   "- **Search**: O(n) - необхідно переглянути всі елементи\n",
   "- **Insert (push)**: O(1) - додавання на вершину\n",
   "- **Delete (pop)**: O(1) - видалення з вершини\n",
   "\n",
   "#### Черга:\n",
   "- **Search**: O(n) - необхідно переглянути всі елементи\n",
   "- **Insert (enqueue)**: O(n) - через insert(0) у списку\n",
   "- **Delete (dequeue)**: O(1) - видалення з кінця списку"
  ]
 },
 {
  "cell_type": "markdown",
  "id": "control-questions",
  "metadata": {},
  "source": [
   "## Відповіді на контрольні питання\n",
   "\n",
   "**1. Що таке стек і які операції можна виконувати зі стеком?**\n",
   "\n",
   "Стек - це структура даних LIFO (Last In First Out). Основні операції: push (додавання), pop (видалення), peek (перегляд верхнього елемента), isEmpty (перевірка на пустоту), size (розмір).\n",
   "\n",
   "**2. Яка основна відмінність між стеком та чергою?**\n",
   "\n",
   "Стек працює за принципом LIFO - останній додається, перший видаляється. Черга працює за принципом FIFO - перший додається, перший видаляється.\n",
   "\n",
   "**3. Реалізація стеку масивом vs зв'язаним списком:**\n",
   "\n",
   "- **Масив**: швидший доступ O(1), але фіксований розмір\n",
   "- **Зв'язаний список**: динамічний розмір, але додаткова пам'ять для посилань\n",
   "\n",
   "**4. Застосування стека та черги:**\n",
   "\n",
   "- **Стек**: рекурсивні виклики, відміна операцій (Undo), парсинг виразів\n",
   "- **Черга**: планування задач, буферизація, BFS алгоритми"
  ]
 },
 {
  "cell_type": "markdown",
  "id": "conclusions",
  "metadata": {},
  "source": [
   "## Висновки\n",
   "\n",
   "У ході виконання лабораторної роботи було успішно:\n",
   "\n",
   "- Реалізовано структури даних стек і черга мовою Python\n",
   "- Вивчено основні операції та принципи роботи LIFO та FIFO\n",
   "- Створено додаткові функції pop_n() для стеку та print_n() для черги\n",
   "- Проаналізовано асимптотичну складність операцій\n",
   "- Розглянуто практичні застосування структур даних\n",
   "\n",
   "Стек та черга є фундаментальними структурами даних, які широко використовуються в програмуванні для розв'язання різноманітних задач."
  ]
 }
],
"metadata": {
 "kernelspec": {
  "display_name": "Python 3",
  "language": "python",
  "name": "python3"
 },
 "language_info": {
  "codemirror_mode": {
   "name": "ipython",
   "version": 3
  },
  "file_extension": ".py",
  "mimetype": "text/x-python",
  "name": "python",
  "nbconvert_exporter": "python",
  "pygments_lexer": "ipython3",
  "version": "3.8.5"
 }
},
"nbformat": 4,
"nbformat_minor": 5
}