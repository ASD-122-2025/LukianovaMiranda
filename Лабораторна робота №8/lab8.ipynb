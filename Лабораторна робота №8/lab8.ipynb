{
"cells": [
 {
  "cell_type": "raw",
  "id": "7b8f12a6-c3e5-4b7e-9a5d-1c8e4b2f6a8e",
  "metadata": {},
  "source": [
   "---\n",
   "title: \"Лабораторна робота №8. Структура даних граф. Алгоритми на графах\"\n",
   "description:\n",
   "   Документ зроблено за допомогою [Quarto](https://quarto.org/)\n",
   "author: \"&copy; [<span style='color: blue;'>Міранда Лук'янова Романівна </span>]\"\n",
   "date: \"29.05.2025\"\n",
   "lang: ukr\n",
   "format:\n",
   "  html:\n",
   "    code-fold: true\n",
   "    toc: true\n",
   "    toc_float:\n",
   "      collapsed: true\n",
   "      number_sections: true\n",
   "jupyter: python3\n",
   "---"
  ]
 },
 {
  "cell_type": "markdown",
  "id": "8a3d6f4e-7c2b-4d1e-9a5b-6c4e8f2a9b1c",
  "metadata": {},
  "source": [
   "# Вступ\n",
   "\n",
   "**Тема:** Структура даних граф. Алгоритми на графах\n",
   "\n",
   "**Мета:** засвоїти представлення структури даних граф та основні алгоритми роботи з ними засобами Python.\n",
   "\n",
   "**Завдання:**\n",
   "- Реалізувати структури даних граф мовою Python\n",
   "- Працювати зі структурами даних граф на мові Python\n",
   "- Вивчити алгоритми пошуку в глибину (DFS) та в ширину (BFS)\n",
   "- Застосувати алгоритми Дейкстри та Беллмана-Форда"
  ]
 },
 {
  "cell_type": "markdown",
  "id": "9d1e4f5c-8b3f-4c2e-9a5f-1d3e7b9c2a4e",
  "metadata": {},
  "source": [
   "# Хід роботи"
  ]
 },
 {
  "cell_type": "markdown",
  "id": "4f2a3b5e-8c1d-4f3e-9b2c-1e4d7a9c6b3f",
  "metadata": {},
  "source": [
   "## 1. Налаштування оточення"
  ]
 },
 {
  "cell_type": "code",
  "execution_count": null,
  "id": "1a2b3c4d-5e6f-7a8b-9c1d-2e3f4a5b6c7d",
  "metadata": {},
  "outputs": [],
  "source": [
   "import networkx as nx\n",
   "import matplotlib.pyplot as plt\n",
   "%matplotlib inline"
  ]
 },
 {
  "cell_type": "markdown",
  "id": "6b7c8d9e-1f2a-3b4c-5d6e-7f8a9b1c2d3e",
  "metadata": {},
  "source": [
   "## 2. Реалізація класів Graph та Vertex"
  ]
 },
 {
  "cell_type": "markdown",
  "id": "7c8d9e1f-2a3b-4c5d-6e7f-8a9b1c2d3e4f",
  "metadata": {},
  "source": [
   "### Клас Vertex"
  ]
 },
 {
  "cell_type": "code",
  "execution_count": null,
  "id": "8d9e1f2a-3b4c-5d6e-7f8a-9b1c2d3e4f5a",
  "metadata": {},
  "outputs": [],
  "source": [
   "class Vertex:\n",
   "    def __init__(self, key):\n",
   "        self.id = key\n",
   "        self.connectedTo = {}\n",
   "    \n",
   "    def addNeighbor(self, nbr, weight=0):\n",
   "        self.connectedTo[nbr] = weight\n",
   "    \n",
   "    def __str__(self):\n",
   "        return str(self.id) + ' connectedTo: ' + str([x.id for x in self.connectedTo])\n",
   "    \n",
   "    def getConnections(self):\n",
   "        return self.connectedTo.keys()\n",
   "    \n",
   "    def getId(self):\n",
   "        return self.id\n",
   "    \n",
   "    def getWeight(self, nbr):\n",
   "        return self.connectedTo[nbr]"
  ]
 },
 {
  "cell_type": "markdown",
  "id": "9e1f2a3b-4c5d-6e7f-8a9b-1c2d3e4f5a6b",
  "metadata": {},
  "source": [
   "### Клас Graph"
  ]
 },
 {
  "cell_type": "code",
  "execution_count": null,
  "id": "1f2a3b4c-5d6e-7f8a-9b1c-2d3e4f5a6b7c",
  "metadata": {},
  "outputs": [],
  "source": [
   "class Graph:\n",
   "    def __init__(self):\n",
   "        self.vertList = {}\n",
   "        self.numVertices = 0\n",
   "    \n",
   "    def addVertex(self, key):\n",
   "        self.numVertices = self.numVertices + 1\n",
   "        newVertex = Vertex(key)\n",
   "        self.vertList[key] = newVertex\n",
   "        return newVertex\n",
   "    \n",
   "    def getVertex(self, n):\n",
   "        if n in self.vertList:\n",
   "            return self.vertList[n]\n",
   "        else:\n",
   "            return None\n",
   "    \n",
   "    def __contains__(self, n):\n",
   "        return n in self.vertList\n",
   "    \n",
   "    def addEdge(self, f, t, cost=0):\n",
   "        if f not in self.vertList:\n",
   "            nv = self.addVertex(f)\n",
   "        if t not in self.vertList:\n",
   "            nv = self.addVertex(t)\n",
   "        self.vertList[f].addNeighbor(self.vertList[t], cost)\n",
   "    \n",
   "    def getVertices(self):\n",
   "        return self.vertList.keys()\n",
   "    \n",
   "    def __iter__(self):\n",
   "        return iter(self.vertList.values())"
  ]
 },
 {
  "cell_type": "markdown",
  "id": "2a3b4c5d-6e7f-8a9b-1c2d-3e4f5a6b7c8d",
  "metadata": {},
  "source": [
   "## 3. Алгоритми пошуку найкоротших шляхів"
  ]
 },
 {
  "cell_type": "markdown",
  "id": "3b4c5d6e-7f8a-9b1c-2d3e-4f5a6b7c8d9e",
  "metadata": {},
  "source": [
   "### Алгоритм Дейкстри"
  ]
 },
 {
  "cell_type": "code",
  "execution_count": null,
  "id": "4c5d6e7f-8a9b-1c2d-3e4f-5a6b7c8d9e1f",
  "metadata": {},
  "outputs": [],
  "source": [
   "# Створюємо граф G (шляховий граф з 5 вершинами)\n",
   "G = nx.path_graph(5)\n",
   "\n",
   "# Знаходимо найкоротший шлях від вершини 0 до всіх інших вершин\n",
   "length, path = nx.single_source_dijkstra(G, 0)\n",
   "\n",
   "print(f\"Довжина найкоротшого шляху від 0 до 4: {length[4]}\")\n",
   "print(f\"Всі довжини шляхів: {length}\")"
  ]
 },
 {
  "cell_type": "markdown",
  "id": "5d6e7f8a-9b1c-2d3e-4f5a-6b7c8d9e1f2a",
  "metadata": {},
  "source": [
   "### Алгоритм Беллмана-Форда"
  ]
 },
 {
  "cell_type": "code",
  "execution_count": null,
  "id": "6e7f8a9b-1c2d-3e4f-5a6b-7c8d9e1f2a3b",
  "metadata": {},
  "outputs": [],
  "source": [
   "# Створюємо граф G\n",
   "G = nx.path_graph(5)\n",
   "\n",
   "# Знаходимо найкоротший шлях за алгоритмом Беллмана-Форда\n",
   "length = nx.single_source_bellman_ford_path_length(G, 0)\n",
   "\n",
   "print(f\"Довжина найкоротшого шляху від 0 до 4: {length[4]}\")\n",
   "print(f\"Всі довжини шляхів: {length}\")"
  ]
 },
 {
  "cell_type": "markdown",
  "id": "7f8a9b1c-2d3e-4f5a-6b7c-8d9e1f2a3b4c",
  "metadata": {},
  "source": [
   "## 4. Візуалізація графа"
  ]
 },
 {
  "cell_type": "code",
  "execution_count": null,
  "id": "8a9b1c2d-3e4f-5a6b-7c8d-9e1f2a3b4c5d",
  "metadata": {},
  "outputs": [],
  "source": [
   "# Створення графа з 6 вершинами\n",
   "G = nx.Graph()\n",
   "G.add_nodes_from(['A', 'B', 'C', 'D', 'E', 'F'])\n",
   "G.add_edges_from([('A', 'B'), ('A', 'C'), ('B', 'D'), \n",
   "                  ('B', 'E'), ('C', 'F'), ('E', 'F')])\n",
   "\n",
   "# Візуалізація\n",
   "pos = nx.spring_layout(G)\n",
   "nx.draw_networkx_nodes(G, pos, node_size=700)\n",
   "nx.draw_networkx_labels(G, pos, font_size=20, font_family='sans-serif')\n",
   "nx.draw_networkx_edges(G, pos, edgelist=G.edges())\n",
   "plt.show()"
  ]
 },
 {
  "cell_type": "markdown",
  "id": "9b1c2d3e-4f5a-6b7c-8d9e-1f2a3b4c5d6e",
  "metadata": {},
  "source": [
   "## 5. Алгоритм пошуку в глибину (DFS)"
  ]
 },
 {
  "cell_type": "code",
  "execution_count": null,
  "id": "1c2d3e4f-5a6b-7c8d-9e1f-2a3b4c5d6e7f",
  "metadata": {},
  "outputs": [],
  "source": [
   "def dfs(graph, start, visited=None):\n",
   "    if visited is None:\n",
   "        visited = set()\n",
   "    visited.add(start)\n",
   "    \n",
   "    for next in set(graph.adj[start].keys()) - visited:\n",
   "        dfs(graph, next, visited)\n",
   "    return visited\n",
   "\n",
   "# Виклик функції DFS\n",
   "result = dfs(G, 'C')\n",
   "print(f\"Відвідані вершини з C: {result}\")"
  ]
 },
 {
  "cell_type": "code",
  "execution_count": null,
  "id": "2d3e4f5a-6b7c-8d9e-1f2a-3b4c5d6e7f8a",
  "metadata": {},
  "outputs": [],
  "source": [
   "def dfs_paths(graph, start, goal, path=None):\n",
   "    if path is None:\n",
   "        path = [start]\n",
   "    if start == goal:\n",
   "        yield path\n",
   "    \n",
   "    for next in set(graph.adj[start].keys()) - set(path):\n",
   "        yield from dfs_paths(graph, next, goal, path + [next])\n",
   "\n",
   "# Знаходження всіх шляхів від C до F\n",
   "paths = list(dfs_paths(G, 'C', 'F'))\n",
   "print(f\"Всі шляхи від C до F: {paths}\")"
  ]
 },
 {
  "cell_type": "markdown",
  "id": "3e4f5a6b-7c8d-9e1f-2a3b-4c5d6e7f8a9b",
  "metadata": {},
  "source": [
   "## 6. Алгоритм пошуку в ширину (BFS)"
  ]
 },
 {
  "cell_type": "code",
  "execution_count": null,
  "id": "4f5a6b7c-8d9e-1f2a-3b4c-5d6e7f8a9b1c",
  "metadata": {},
  "outputs": [],
  "source": [
   "def bfs_paths(graph, start, goal):\n",
   "    queue = [(start, [start])]\n",
   "    \n",
   "    while queue:\n",
   "        (vertex, path) = queue.pop(0)\n",
   "        \n",
   "        for next in set(graph.adj[vertex].keys()) - set(path):\n",
   "            if next == goal:\n",
   "                yield path + [next]\n",
   "            else:\n",
   "                queue.append((next, path + [next]))\n",
   "\n",
   "# Знаходження всіх шляхів від A до F за допомогою BFS\n",
   "bfs_result = list(bfs_paths(G, 'A', 'F'))\n",
   "print(f\"Всі шляхи від A до F (BFS): {bfs_result}\")"
  ]
 },
 {
  "cell_type": "markdown",
  "id": "5a6b7c8d-9e1f-2a3b-4c5d-6e7f8a9b1c2d",
  "metadata": {},
  "source": [
   "# Відповіді на контрольні питання"
  ]
 },
 {
  "cell_type": "markdown",
  "id": "6b7c8d9e-1f2a-3b4c-5d6e-7f8a9b1c2d3e",
  "metadata": {},
  "source": [
   "**1. Що таке граф у термінах теорії графів?**\n",
   "\n",
   "Граф - це математична структура G = (V, E), де V - множина вершин, E - множина ребер. Приклади застосування: соціальні мережі, транспортні системи, комп'ютерні мережі.\n",
   "\n",
   "**2. Які основні види графів існують?**\n",
   "\n",
   "- Орієнтовані (directed) - ребра мають напрямок\n",
   "- Неорієнтовані (undirected) - ребра без напрямку\n",
   "- Зважені - ребра мають ваги\n",
   "- Незважені - ребра без ваг\n",
   "\n",
   "**3. Як можна представити граф у пам'яті комп'ютера?**\n",
   "\n",
   "- Матриця суміжності - двовимірний масив O(V²) пам'яті\n",
   "- Список суміжності - словник/список сусідів O(V+E) пам'яті\n",
   "\n",
   "**4. Як працює алгоритм BFS?**\n",
   "\n",
   "BFS використовує чергу, обходить граф по рівнях. Застосування: пошук найкоротшого шляху в незваженому графі, перевірка зв'язності.\n",
   "\n",
   "**5. Що таке алгоритм DFS?**\n",
   "\n",
   "DFS використовує стек/рекурсію, йде \"вглиб\" графа. Відмінність від BFS - порядок обходу. Застосування: топологічне сортування, пошук циклів.\n",
   "\n",
   "**6. Алгоритм Дейкстри**\n",
   "\n",
   "Знаходить найкоротший шлях від однієї вершини до всіх інших. Умови: невід'ємні ваги ребер. Складність: O((V+E)logV)."
  ]
 },
 {
  "cell_type": "markdown",
  "id": "7c8d9e1f-2a3b-4c5d-6e7f-8a9b1c2d3e4f",
  "metadata": {},
  "source": [
   "# Висновки"
  ]
 },
 {
  "cell_type": "markdown",
  "id": "8d9e1f2a-3b4c-5d6e-7f8a-9b1c2d3e4f5a",
  "metadata": {},
  "source": [
   "У ході виконання лабораторної роботи було:\n",
   "\n",
   "1. **Освоєно представлення графів** - реалізовано класи Vertex та Graph для роботи зі структурою даних граф\n",
   "\n",
   "2. **Вивчено алгоритми пошуку**:\n",
   "   - DFS (пошук в глибину) - для знаходження всіх шляхів між вершинами\n",
   "   - BFS (пошук в ширину) - для знаходження найкоротшого шляху\n",
   "\n",
   "3. **Застосовано алгоритми найкоротших шляхів**:\n",
   "   - Алгоритм Дейкстри - для графів з невід'ємними вагами\n",
   "   - Алгоритм Беллмана-Форда - для графів з від'ємними вагами\n",
   "\n",
   "4. **Практично застосовано бібліотеку NetworkX** для візуалізації та роботи з графами\n",
   "\n",
   "Отримані навички дозволяють ефективно працювати з графовими структурами даних та застосовувати відповідні алгоритми для розв'язання практичних задач."
  ]
 }
],
"metadata": {
 "kernelspec": {
  "display_name": "Python 3 (ipykernel)",
  "language": "python",
  "name": "python3"
 },
 "language_info": {
  "codemirror_mode": {
   "name": "ipython",
   "version": 3
  },
  "file_extension": ".py",
  "mimetype": "text/x-python",
  "name": "python",
  "nbconvert_exporter": "python",
  "pygments_lexer": "ipython3",
  "version": "3.9.12"
 }
},
"nbformat": 4,
"nbformat_minor": 5
}