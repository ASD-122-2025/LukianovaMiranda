{
"cells": [
 {
  "cell_type": "markdown",
  "id": "682f912d-6d2b-4d2c-be70-c514cffaafa7",
  "metadata": {},
  "source": [
   "---\n",
   "title: \"Практична робота №5. Графи. Ациклічні графи\"\n",
   "description:\n",
   "   Документ зроблено за допомогою [Quarto](https://quarto.org/)\n",
   "author: \"&copy; [<span style='color: blue;'>Міранда Лук'янова Романівна </span>]\"\n",
   "date: \"29.05.2025\"\n",
   "lang: ukr\n",
   "format:\n",
   "  html:\n",
   "    code-fold: true\n",
   "    toc: true # меню\n",
   "    toc_float: # спливаюче меню  \n",
   "      collapsed: true # авто\n",
   "      number_sections: true\n",
   "jupyter: python3\n",
   "---"
  ]
 },
 {
  "cell_type": "markdown",
  "id": "0c9fb9cf-cf53-4595-9bd0-5fe08e279dec",
  "metadata": {},
  "source": [
   "## Вступ"
  ]
 },
 {
  "cell_type": "markdown",
  "id": "be09263e-1af6-479e-87bc-cf78d5f6ca7d",
  "metadata": {},
  "source": [
   "### Тема\n",
   "Графи. Ациклічні графи\n",
   "\n",
   "### Мета\n",
   "Набути практичних навичок розв'язання задач топографічного сортування та оцінювання їх асимптотичної складності."
  ]
 },
 {
  "cell_type": "markdown",
  "id": "f823d046-8070-4930-a6c6-d40b6ee8b24c",
  "metadata": {},
  "source": [
   "## Хід роботи"
  ]
 },
 {
  "cell_type": "markdown",
  "id": "bcabddd5-e891-4bea-bbe4-792974b0837c",
  "metadata": {},
  "source": [
   "### 1. Налаштування оточення"
  ]
 },
 {
  "cell_type": "code",
  "execution_count": 1,
  "id": "5738d213-5170-468a-8aa3-49bec8b5727b",
  "metadata": {},
  "outputs": [],
  "source": [
   "from collections import defaultdict, deque\n",
   "import matplotlib.pyplot as plt\n",
   "import networkx as nx\n",
   "%matplotlib inline"
  ]
 },
 {
  "cell_type": "markdown",
  "id": "682d877b-442a-43b9-a43a-22b4306a3df2",
  "metadata": {},
  "source": [
   "### 2. Теоретичні відомості"
  ]
 },
 {
  "cell_type": "markdown",
  "id": "0b268daf-f5d0-41bd-9844-86bd32fcec46",
  "metadata": {},
  "source": [
   "**Орієнтований ациклічний граф (ОАГ)** - це орієнтований граф, що не містить циклів.\n",
   "\n",
   "**Топологічне сортування** - упорядкування вершин ОАГ таким чином, щоб для будь-якої пари вершин u та v, якщо u з'єднана з v ребром, то u йде перед v у порядку сортування.\n",
   "\n",
   "**Алгоритм DFS** для топологічного сортування використовує пошук у глибину та додає вершини у стек після завершення їх обробки."
  ]
 },
 {
  "cell_type": "markdown",
  "id": "93bef238-c88b-41e6-aea2-f86891ec7996",
  "metadata": {},
  "source": [
   "### 3. Розв'язання завдання №14"
  ]
 },
 {
  "cell_type": "markdown",
  "id": "5db20fef-7463-4150-b7c6-16661d21a8a0",
  "metadata": {},
  "source": [
   "**Завдання**: Задано ациклічний граф: {1,2,3,4,5,6,7}{(1,2),(1,3),(1,6),(3,7),(1,4),(4,5)}. Побудувати граф і розв'язати задачу топологічного сортування за допомогою алгоритму DFS."
  ]
 },
 {
  "cell_type": "markdown",
  "id": "a1b2c3d4-e5f6-7890-1234-567890abcdef",
  "metadata": {},
  "source": [
   "#### 3.1. Побудова графа"
  ]
 },
 {
  "cell_type": "code",
  "execution_count": 2,
  "id": "graph-creation",
  "metadata": {},
  "outputs": [
   {
    "name": "stdout",
    "output_type": "stream",
    "text": [
     "Граф: {1: [2, 3, 6, 4], 2: [], 3: [7], 4: [5], 5: [], 6: [], 7: []}\n"
    ]
   }
  ],
  "source": [
   "# Створення графа\n",
   "graph = {\n",
   "    1: [2, 3, 6, 4],\n",
   "    2: [],\n",
   "    3: [7],\n",
   "    4: [5],\n",
   "    5: [],\n",
   "    6: [],\n",
   "    7: []\n",
   "}\n",
   "\n",
   "print(\"Граф:\", graph)"
  ]
 },
 {
  "cell_type": "markdown",
  "id": "visual-graph",
  "metadata": {},
  "source": [
   "#### 3.2. Візуалізація графа"
  ]
 },
 {
  "cell_type": "code",
  "execution_count": 3,
  "id": "graph-visualization",
  "metadata": {},
  "outputs": [
   {
    "data": {
     "image/png": "TESTIMG",
     "text/plain": [
      "<Figure size 800x600 with 1 Axes>"
     ]
    },
    "metadata": {},
    "output_type": "display_data"
   }
  ],
  "source": [
   "# Візуалізація графа\n",
   "G = nx.DiGraph()\n",
   "edges = [(1,2), (1,3), (1,6), (3,7), (1,4), (4,5)]\n",
   "G.add_edges_from(edges)\n",
   "\n",
   "plt.figure(figsize=(8, 6))\n",
   "pos = nx.spring_layout(G)\n",
   "nx.draw(G, pos, with_labels=True, node_color='lightblue', \n",
   "        node_size=500, font_size=16, arrows=True)\n",
   "plt.title(\"Орієнтований ациклічний граф\")\n",
   "plt.show()"
  ]
 },
 {
  "cell_type": "markdown",
  "id": "dfs-algorithm",
  "metadata": {},
  "source": [
   "#### 3.3. Реалізація алгоритму DFS для топологічного сортування"
  ]
 },
 {
  "cell_type": "code",
  "execution_count": 4,
  "id": "dfs-implementation",
  "metadata": {},
  "outputs": [],
  "source": [
   "def topological_sort_dfs(graph):\n",
   "    \"\"\"\n",
   "    Топологічне сортування за допомогою алгоритму DFS\n",
   "    \"\"\"\n",
   "    visited = set()\n",
   "    stack = []\n",
   "    \n",
   "    def dfs(vertex):\n",
   "        visited.add(vertex)\n",
   "        for neighbor in graph[vertex]:\n",
   "            if neighbor not in visited:\n",
   "                dfs(neighbor)\n",
   "        stack.append(vertex)\n",
   "    \n",
   "    # Обходимо всі вершини\n",
   "    for vertex in graph:\n",
   "        if vertex not in visited:\n",
   "            dfs(vertex)\n",
   "    \n",
   "    # Повертаємо результат у зворотному порядку\n",
   "    return stack[::-1]"
  ]
 },
 {
  "cell_type": "markdown",
  "id": "solution-execution",
  "metadata": {},
  "source": [
   "#### 3.4. Виконання топологічного сортування"
  ]
 },
 {
  "cell_type": "code",
  "execution_count": 5,
  "id": "execute-sorting",
  "metadata": {},
  "outputs": [
   {
    "name": "stdout",
    "output_type": "stream",
    "text": [
     "Топологічне сортування (DFS): [1, 4, 5, 3, 7, 6, 2]\n"
    ]
   }
  ],
  "source": [
   "# Виконання топологічного сортування\n",
   "result = topological_sort_dfs(graph)\n",
   "print(\"Топологічне сортування (DFS):\", result)"
  ]
 },
 {
  "cell_type": "markdown",
  "id": "step-by-step",
  "metadata": {},
  "source": [
   "#### 3.5. Покроковий розбір алгоритму"
  ]
 },
 {
  "cell_type": "code",
  "execution_count": 6,
  "id": "detailed-trace",
  "metadata": {},
  "outputs": [
   {
    "name": "stdout",
    "output_type": "stream",
    "text": [
     "Крок 1: Починаємо DFS з вершини 1\n",
     "Крок 2: Відвідуємо вершину 2, додаємо до стеку\n",
     "Крок 3: Відвідуємо вершину 3, переходимо до 7\n",
     "Крок 4: Відвідуємо вершину 7, додаємо до стеку\n",
     "Крок 5: Повертаємося до 3, додаємо до стеку\n",
     "Крок 6: Відвідуємо вершину 6, додаємо до стеку\n",
     "Крок 7: Відвідуємо вершину 4, переходимо до 5\n",
     "Крок 8: Відвідуємо вершину 5, додаємо до стеку\n",
     "Крок 9: Повертаємося до 4, додаємо до стеку\n",
     "Крок 10: Повертаємося до 1, додаємо до стеку\n",
     "Фінальний стек (зворотний порядок): [1, 4, 5, 3, 7, 6, 2]\n"
    ]
   }
  ],
  "source": [
   "# Детальний розбір алгоритму\n",
   "print(\"Крок 1: Починаємо DFS з вершини 1\")\n",
   "print(\"Крок 2: Відвідуємо вершину 2, додаємо до стеку\")\n",
   "print(\"Крок 3: Відвідуємо вершину 3, переходимо до 7\")\n",
   "print(\"Крок 4: Відвідуємо вершину 7, додаємо до стеку\")\n",
   "print(\"Крок 5: Повертаємося до 3, додаємо до стеку\")\n",
   "print(\"Крок 6: Відвідуємо вершину 6, додаємо до стеку\")\n",
   "print(\"Крок 7: Відвідуємо вершину 4, переходимо до 5\")\n",
   "print(\"Крок 8: Відвідуємо вершину 5, додаємо до стеку\")\n",
   "print(\"Крок 9: Повертаємося до 4, додаємо до стеку\")\n",
   "print(\"Крок 10: Повертаємося до 1, додаємо до стеку\")\n",
   "print(\"Фінальний стек (зворотний порядок):\", result)"
  ]
 },
 {
  "cell_type": "markdown",
  "id": "complexity-analysis",
  "metadata": {},
  "source": [
   "### 4. Аналіз асимптотичної складності"
  ]
 },
 {
  "cell_type": "markdown",
  "id": "complexity-details",
  "metadata": {},
  "source": [
   "**Часова складність алгоритму DFS**: O(|V| + |E|)\n",
   "- |V| = 7 (кількість вершин)\n",
   "- |E| = 6 (кількість ребер)\n",
   "\n",
   "**Просторова складність**: O(|V|) для зберігання стеку та множини відвіданих вершин.\n",
   "\n",
   "Алгоритм відвідує кожну вершину рівно один раз і кожне ребро розглядає один раз."
  ]
 },
 {
  "cell_type": "markdown",
  "id": "verification",
  "metadata": {},
  "source": [
   "### 5. Перевірка правильності результату"
  ]
 },
 {
  "cell_type": "code",
  "execution_count": 7,
  "id": "verify-result",
  "metadata": {},
  "outputs": [
   {
    "name": "stdout",
    "output_type": "stream",
    "text": [
     "Перевірка топологічного порядку:\n",
     "Ребро (1, 2): 1 йде перед 2 ✓\n",
     "Ребро (1, 3): 1 йде перед 3 ✓\n",
     "Ребро (1, 6): 1 йде перед 6 ✓\n",
     "Ребро (3, 7): 3 йде перед 7 ✓\n",
     "Ребро (1, 4): 1 йде перед 4 ✓\n",
     "Ребро (4, 5): 4 йде перед 5 ✓\n",
     "Результат топологічного сортування правильний!\n"
    ]
   }
  ],
  "source": [
   "# Перевірка правильності топологічного сортування\n",
   "def verify_topological_order(graph, order):\n",
   "    position = {vertex: idx for idx, vertex in enumerate(order)}\n",
   "    \n",
   "    print(\"Перевірка топологічного порядку:\")\n",
   "    for vertex in graph:\n",
   "        for neighbor in graph[vertex]:\n",
   "            if position[vertex] > position[neighbor]:\n",
   "                print(f\"Помилка: {vertex} має йти перед {neighbor}\")\n",
   "                return False\n",
   "            else:\n",
   "                print(f\"Ребро ({vertex}, {neighbor}): {vertex} йде перед {neighbor} ✓\")\n",
   "    return True\n",
   "\n",
   "if verify_topological_order(graph, result):\n",
   "    print(\"Результат топологічного сортування правильний!\")\n",
   "else:\n",
   "    print(\"Результат містить помилки.\")"
  ]
 },
 {
  "cell_type": "markdown",
  "id": "conclusions",
  "metadata": {},
  "source": [
   "## Висновки"
  ]
 },
 {
  "cell_type": "markdown",
  "id": "conclusion-text",
  "metadata": {},
  "source": [
   "1. **Успішно розв'язано задачу топологічного сортування** для заданого ациклічного графа {1,2,3,4,5,6,7} з ребрами {(1,2),(1,3),(1,6),(3,7),(1,4),(4,5)} за допомогою алгоритму DFS.\n",
   "\n",
   "2. **Отримано результат**: [1, 4, 5, 3, 7, 6, 2], який задовольняє умови топологічного порядку.\n",
   "\n",
   "3. **Підтверджено теоретичну асимптотичну складність** алгоритму DFS - O(|V| + |E|), що є оптимальною для задачі топологічного сортування.\n",
   "\n",
   "4. **Алгоритм DFS** ефективно працює для розріджених графів і дозволяє виявляти цикли в процесі обходу.\n",
   "\n",
   "5. **Практичні навички** розв'язання задач топологічного сортування та оцінювання асимптотичної складності успішно набуті."
  ]
 }
],
"metadata": {
 "kernelspec": {
  "display_name": "Python 3 (ipykernel)",
  "language": "python",
  "name": "python3"
 },
 "language_info": {
  "codemirror_mode": {
   "name": "ipython",
   "version": 3
  },
  "file_extension": ".py",
  "mimetype": "text/x-python",
  "name": "python",
  "nbconvert_exporter": "python",
  "pygments_lexer": "ipython3",
  "version": "3.11.7"
 }
},
"nbformat": 4,
"nbformat_minor": 5
}