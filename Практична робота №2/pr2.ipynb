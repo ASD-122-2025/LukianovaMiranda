{
"cells": [
 {
  "cell_type": "raw",
  "id": "header-cell",
  "metadata": {},
  "source": [
   "---\n",
   "title: \"Практична робота №2. Асимптотична складність алгоритмів. Інші нотації\"\n",
   "description:\n",
   "   Документ зроблено за допомогою [Quarto](https://quarto.org/)\n",
   "author: \"&copy; [<span style='color: blue;'>Міранда Лук'янова Романівна </span>]\"\n",
   "date: \"29.05.2025\"\n",
   "lang: ukr\n",
   "format:\n",
   "  html:\n",
   "    code-fold: true\n",
   "    toc: true\n",
   "    toc_float:\n",
   "      collapsed: true\n",
   "      number_sections: true\n",
   "jupyter: python3\n",
   "---"
  ]
 },
 {
  "cell_type": "markdown",
  "id": "intro-section",
  "metadata": {},
  "source": [
   "## Вступ\n",
   "\n",
   "**Тема:** Асимптотична складність алгоритмів. Інші нотації\n",
   "\n",
   "**Мета:** набути практичних навичок у розв'язанні задач на оцінку асимптотичної складності алгоритмів у Ω, Θ, o, θ, ω-нотаціях.\n",
   "\n",
   "У цій роботі розглядаються різні асимптотичні нотації для оцінки складності алгоритмів та методи їх застосування."
  ]
 },
 {
  "cell_type": "markdown",
  "id": "theory-section",
  "metadata": {},
  "source": [
   "## Короткі теоретичні відомості\n",
   "\n",
   "### Ω-нотація (велика омега)\n",
   "f(n) = Ω(g(n)), якщо ∃ c > 0 та n₀, такі що f(n) ≥ cg(n) для ∀n ≥ n₀\n",
   "\n",
   "### Θ-нотація (тета)\n",
   "f(n) = Θ(g(n)), якщо f(n) одночасно O(g(n)) і Ω(g(n))\n",
   "\n",
   "### Малі нотації o та ω\n",
   "- o(g(n)) - f зростає повільніше ніж g\n",
   "- ω(g(n)) - f зростає швидше ніж g"
  ]
 },
 {
  "cell_type": "markdown",
  "id": "work-section",
  "metadata": {},
  "source": [
   "## Хід роботи"
  ]
 },
 {
  "cell_type": "markdown",
  "id": "task-description",
  "metadata": {},
  "source": [
   "### Завдання 14\n",
   "Маємо функції f(n) = n⁴ - 2n³ + 3n + 7 та g(n) = n⁴. \n",
   "Показати, що f(n) = O(g(n)), використовуючи метод меж."
  ]
 },
 {
  "cell_type": "code",
  "execution_count": 1,
  "id": "imports",
  "metadata": {},
  "source": [
   "import numpy as np\n",
   "import matplotlib.pyplot as plt\n",
   "import sympy as sp\n",
   "from sympy import symbols, limit, oo, log, sqrt"
  ]
 },
 {
  "cell_type": "markdown",
  "id": "solution-14",
  "metadata": {},
  "source": [
   "### Розв'язання завдання 14"
  ]
 },
 {
  "cell_type": "code",
  "execution_count": 2,
  "id": "solve-14",
  "metadata": {},
  "source": [
   "# Визначаємо символ n\n",
   "n = symbols('n', positive=True)\n",
   "\n",
   "# Визначаємо функції\n",
   "f_n = n**4 - 2*n**3 + 3*n + 7\n",
   "g_n = n**4\n",
   "\n",
   "print(f\"f(n) = {f_n}\")\n",
   "print(f\"g(n) = {g_n}\")\n",
   "\n",
   "# Обчислюємо межу f(n)/g(n) при n→∞\n",
   "limit_result = limit(f_n/g_n, n, oo)\n",
   "print(f\"\\nlim(n→∞) f(n)/g(n) = {limit_result}\")\n",
   "\n",
   "# Висновок\n",
   "if limit_result.is_finite and limit_result > 0:\n",
   "    print(f\"\\nОскільки межа дорівнює {limit_result} (скінченна додатна константа),\")\n",
   "    print(\"то f(n) = Θ(g(n)), а отже і f(n) = O(g(n))\")\n",
   "elif limit_result == 0:\n",
   "    print(\"\\nОскільки межа дорівнює 0, то f(n) = o(g(n)), а отже і f(n) = O(g(n))\")\n",
   "elif limit_result == oo:\n",
   "    print(\"\\nОскільки межа дорівнює ∞, то f(n) = ω(g(n))\")"
  ]
 },
 {
  "cell_type": "markdown",
  "id": "task-19",
  "metadata": {},
  "source": [
   "### Завдання 19 (14+5)\n",
   "Додаткове завдання для поглибленого аналізу"
  ]
 },
 {
  "cell_type": "code",
  "execution_count": 3,
  "id": "solve-19",
  "metadata": {},
  "source": [
   "# Аналіз функції більш детально\n",
   "# Розкладаємо f(n)/g(n)\n",
   "ratio = f_n/g_n\n",
   "simplified = sp.simplify(ratio)\n",
   "print(f\"f(n)/g(n) = {simplified}\")\n",
   "\n",
   "# Розкладаємо як 1 + менші члени\n",
   "expanded = sp.series(ratio, n, oo, n=3)\n",
   "print(f\"\\nАсимптотичний розклад: {expanded}\")\n",
   "\n",
   "print(\"\\nВисновок: f(n)/g(n) → 1 при n → ∞\")\n",
   "print(\"Це означає, що f(n) та g(n) мають однаковий порядок зростання\")\n",
   "print(\"Тому f(n) = Θ(n⁴)\")"
  ]
 },
 {
  "cell_type": "markdown",
  "id": "visualization",
  "metadata": {},
  "source": [
   "### Візуалізація результатів"
  ]
 },
 {
  "cell_type": "code",
  "execution_count": 4,
  "id": "plot-functions",
  "metadata": {},
  "source": [
   "# Створюємо графік для демонстрації\n",
   "n_values = np.linspace(1, 10, 100)\n",
   "f_values = n_values**4 - 2*n_values**3 + 3*n_values + 7\n",
   "g_values = n_values**4\n",
   "ratio_values = f_values / g_values\n",
   "\n",
   "plt.figure(figsize=(12, 4))\n",
   "\n",
   "# Графік функцій\n",
   "plt.subplot(1, 2, 1)\n",
   "plt.plot(n_values, f_values, label='f(n) = n⁴ - 2n³ + 3n + 7', linewidth=2)\n",
   "plt.plot(n_values, g_values, label='g(n) = n⁴', linewidth=2, linestyle='--')\n",
   "plt.xlabel('n')\n",
   "plt.ylabel('Значення функції')\n",
   "plt.title('Порівняння функцій f(n) та g(n)')\n",
   "plt.legend()\n",
   "plt.grid(True, alpha=0.3)\n",
   "\n",
   "# Графік відношення\n",
   "plt.subplot(1, 2, 2)\n",
   "plt.plot(n_values, ratio_values, label='f(n)/g(n)', linewidth=2, color='red')\n",
   "plt.axhline(y=1, color='black', linestyle=':', alpha=0.7, label='y = 1')\n",
   "plt.xlabel('n')\n",
   "plt.ylabel('f(n)/g(n)')\n",
   "plt.title('Відношення f(n)/g(n)')\n",
   "plt.legend()\n",
   "plt.grid(True, alpha=0.3)\n",
   "\n",
   "plt.tight_layout()\n",
   "plt.show()\n",
   "\n",
   "print(f\"При n = 10: f(n)/g(n) = {ratio_values[-1]:.6f}\")"
  ]
 },
 {
  "cell_type": "markdown",
  "id": "analysis",
  "metadata": {},
  "source": [
   "### Аналіз методом констант"
  ]
 },
 {
  "cell_type": "code",
  "execution_count": 5,
  "id": "constants-method",
  "metadata": {},
  "source": [
   "# Альтернативний підхід - знаходження констант c та n₀\n",
   "print(\"Аналіз f(n) = O(g(n)) методом констант:\")\n",
   "print(\"\\nТребується знайти c та n₀ такі, що f(n) ≤ c·g(n) для ∀n ≥ n₀\")\n",
   "print(\"\\nf(n) = n⁴ - 2n³ + 3n + 7\")\n",
   "print(\"g(n) = n⁴\")\n",
   "print(\"\\nf(n)/g(n) = 1 - 2/n + 3/n³ + 7/n⁴\")\n",
   "print(\"\\nПри n → ∞: f(n)/g(n) → 1\")\n",
   "print(\"\\nДля великих n: f(n) ≈ n⁴, тому можемо взяти c = 1.1 та n₀ = 10\")\n",
   "\n",
   "# Перевірка\n",
   "n_test = 10\n",
   "f_test = n_test**4 - 2*n_test**3 + 3*n_test + 7\n",
   "g_test = n_test**4\n",
   "c = 1.1\n",
   "\n",
   "print(f\"\\nПеревірка при n = {n_test}:\")\n",
   "print(f\"f({n_test}) = {f_test}\")\n",
   "print(f\"c·g({n_test}) = {c}·{g_test} = {c*g_test}\")\n",
   "print(f\"f(n) ≤ c·g(n)? {f_test <= c*g_test}\")"
  ]
 },
 {
  "cell_type": "markdown",
  "id": "conclusions",
  "metadata": {},
  "source": [
   "## Висновки\n",
   "\n",
   "1. **Метод меж:** Обчислено межу lim(n→∞) f(n)/g(n) = 1, що доводить f(n) = Θ(g(n))\n",
   "\n",
   "2. **Асимптотичний аналіз:** Функція f(n) = n⁴ - 2n³ + 3n + 7 має той самий порядок зростання, що й g(n) = n⁴\n",
   "\n",
   "3. **Практичне застосування:** Для великих значень n молодші члени стають незначними, і функція поводиться як n⁴\n",
   "\n",
   "4. **Результат:** Доведено, що f(n) = O(g(n)), оскільки f(n) = Θ(g(n))\n",
   "\n",
   "Робота демонструє ефективність методу меж для аналізу асимптотичної складності та важливість розуміння різних асимптотичних нотацій."
  ]
 }
],
"metadata": {
 "kernelspec": {
  "display_name": "Python 3",
  "language": "python",
  "name": "python3"
 },
 "language_info": {
  "codemirror_mode": {
   "name": "ipython",
   "version": 3
  },
  "file_extension": ".py",
  "mimetype": "text/x-python",
  "name": "python",
  "nbconvert_exporter": "python",
  "pygments_lexer": "ipython3",
  "version": "3.8.5"
 }
},
"nbformat": 4,
"nbformat_minor": 5
}