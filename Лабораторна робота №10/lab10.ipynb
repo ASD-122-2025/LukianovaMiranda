{
"cells": [
 {
  "cell_type": "raw",
  "id": "682f912d-6d2b-4d2c-be70-c514cffaafa7",
  "metadata": {},
  "source": [
   "---\n",
   "title: \"Лабораторна робота №10. Стиснення даних. Жадібна стратегія на прикладі кодування Гафмена\"\n",
   "description:\n",
   "   Документ зроблено за допомогою [Quarto](https://quarto.org/)\n",
   "author: \"&copy; [<span style='color: blue;'>Міранда Лук'янова Романівна </span>]\"\n",
   "date: \"29.05.2025\"\n",
   "lang: ukr\n",
   "format:\n",
   "  html:\n",
   "    code-fold: true\n",
   "    toc: true\n",
   "    toc_float:\n",
   "      collapsed: true\n",
   "      number_sections: true\n",
   "jupyter: python3\n",
   "---"
  ]
 },
 {
  "cell_type": "markdown",
  "id": "0c9fb9cf-cf53-4595-9bd0-5fe08e279dec",
  "metadata": {},
  "source": [
   "## Вступ\n",
   "\n",
   "**Тема:** Стиснення даних. Жадібна стратегія на прикладі кодування Гафмена\n",
   "\n",
   "**Мета:** навчитись реалізовувати алгоритм побудови дерева оптимальних кодів Гафмена на основі черги з пріоритетом (за допомогою купи) засобами Python."
  ]
 },
 {
  "cell_type": "markdown",
  "id": "be09263e-1af6-479e-87bc-cf78d5f6ca7d",
  "metadata": {},
  "source": [
   "## Хід роботи"
  ]
 },
 {
  "cell_type": "markdown",
  "id": "f823d046-8070-4930-a6c6-d40b6ee8b24c",
  "metadata": {},
  "source": [
   "### 1. Налаштування оточення"
  ]
 },
 {
  "cell_type": "code",
  "execution_count": 1,
  "id": "5738d213-5170-468a-8aa3-49bec8b5727b",
  "metadata": {},
  "source": [
   "import heapq\n",
   "from collections import Counter"
  ],
  "outputs": []
 },
 {
  "cell_type": "markdown",
  "id": "bcabddd5-e891-4bea-bbe4-792974b0837c",
  "metadata": {},
  "source": [
   "### 2. Реалізація класу вузла дерева Гафмена"
  ]
 },
 {
  "cell_type": "code",
  "execution_count": 2,
  "id": "682d877b-442a-43b9-a43a-22b4306a3df2",
  "metadata": {},
  "source": [
   "class node:\n",
   "    def __init__(self, freq, symbol, left=None, right=None):\n",
   "        # частота символу\n",
   "        self.freq = freq\n",
   "        # назва символу (символ)\n",
   "        self.symbol = symbol\n",
   "        # вузол ліворуч від поточного вузла\n",
   "        self.left = left\n",
   "        # вузол праворуч від поточного вузла\n",
   "        self.right = right\n",
   "        # напрямок дерева (0/1)\n",
   "        self.huff = ''\n",
   "    \n",
   "    def __lt__(self, nxt):\n",
   "        return self.freq < nxt.freq"
  ],
  "outputs": []
 },
 {
  "cell_type": "markdown",
  "id": "0b268daf-f5d0-41bd-9844-86bd32fcec46",
  "metadata": {},
  "source": [
   "### 3. Функція для виведення кодів Гафмена"
  ]
 },
 {
  "cell_type": "code",
  "execution_count": 3,
  "id": "93bef238-c88b-41e6-aea2-f86891ec7996",
  "metadata": {},
  "source": [
   "def printNodes(node, val=''):\n",
   "    # Код Гафмена для поточного вузла\n",
   "    newVal = val + str(node.huff)\n",
   "    \n",
   "    # якщо вершина не є реберною вершиною\n",
   "    # то пройти всередині неї\n",
   "    if(node.left):\n",
   "        printNodes(node.left, newVal)\n",
   "    if(node.right):\n",
   "        printNodes(node.right, newVal)\n",
   "        \n",
   "    # якщо node є реберною вершиною тоді\n",
   "    # вивести його хаффманівський код\n",
   "    if(not node.left and not node.right):\n",
   "        print(f\"{node.symbol} -> {newVal}\")"
  ],
  "outputs": []
 },
 {
  "cell_type": "markdown",
  "id": "5db20fef-7463-4150-b7c6-16661d21a8a0",
  "metadata": {},
  "source": [
   "### 4. Реалізація алгоритму побудови дерева Гафмена"
  ]
 },
 {
  "cell_type": "code",
  "execution_count": 4,
  "id": "abc12345-1234-1234-1234-123456789abc",
  "metadata": {},
  "source": [
   "def huffman_encoding(chars, freq):\n",
   "    # список, що містить невикористані вершини\n",
   "    nodes = []\n",
   "    \n",
   "    # перетворення символів та частот у вузли дерева Гафмена\n",
   "    for x in range(len(chars)):\n",
   "        heapq.heappush(nodes, node(freq[x], chars[x]))\n",
   "    \n",
   "    while len(nodes) > 1:\n",
   "        # відсортувати всі вершини за зростанням на основі їх частоти\n",
   "        left = heapq.heappop(nodes)\n",
   "        right = heapq.heappop(nodes)\n",
   "        \n",
   "        # присвоїти значення напрямку цим вузлам\n",
   "        left.huff = 0\n",
   "        right.huff = 1\n",
   "        \n",
   "        # об'єднати 2 найменші вершини, щоб створити новий вузол як їхній батько\n",
   "        newNode = node(left.freq+right.freq, left.symbol+right.symbol, left, right)\n",
   "        heapq.heappush(nodes, newNode)\n",
   "    \n",
   "    return nodes[0]"
  ],
  "outputs": []
 },
 {
  "cell_type": "markdown",
  "id": "def23456-2345-2345-2345-23456789abcd",
  "metadata": {},
  "source": [
   "### 5. Тестування на прикладі з лабораторної роботи"
  ]
 },
 {
  "cell_type": "code",
  "execution_count": 5,
  "id": "fed34567-3456-3456-3456-3456789abcde",
  "metadata": {},
  "source": [
   "# символи для дерева Гафмена\n",
   "chars = ['a', 'b', 'c', 'd', 'e', 'f']\n",
   "# частота символів\n",
   "freq = [5, 9, 12, 13, 16, 45]\n",
   "\n",
   "print(\"Коди Гафмена для символів:\")\n",
   "root = huffman_encoding(chars, freq)\n",
   "printNodes(root)"
  ],
  "outputs": [
   {
    "name": "stdout",
    "output_type": "stream",
    "text": [
     "Коди Гафмена для символів:\n",
     "f -> 0\n",
     "c -> 100\n",
     "d -> 101\n",
     "a -> 1100\n",
     "b -> 1101\n",
     "e -> 111\n"
    ]
   }
  ]
 },
 {
  "cell_type": "markdown",
  "id": "ghi45678-4567-4567-4567-456789abcdef",
  "metadata": {},
  "source": [
   "### 6. Функція для обчислення символів та їх частот з повідомлення"
  ]
 },
 {
  "cell_type": "code",
  "execution_count": 6,
  "id": "jkl56789-5678-5678-5678-56789abcdefg",
  "metadata": {},
  "source": [
   "def get_frequency(message):\n",
   "    \"\"\"Обчислює частоту символів у повідомленні\"\"\"\n",
   "    counter = Counter(message)\n",
   "    chars = list(counter.keys())\n",
   "    freq = list(counter.values())\n",
   "    return chars, freq\n",
   "\n",
   "# Тестування на прикладі\n",
   "test_message = \"hello world\"\n",
   "chars_test, freq_test = get_frequency(test_message)\n",
   "print(f\"Символи: {chars_test}\")\n",
   "print(f\"Частоти: {freq_test}\")"
  ],
  "outputs": [
   {
    "name": "stdout",
    "output_type": "stream",
    "text": [
     "Символи: ['h', 'e', 'l', 'o', ' ', 'w', 'r', 'd']\n",
     "Частоти: [1, 1, 3, 2, 1, 1, 1, 1]\n"
    ]
   }
  ]
 },
 {
  "cell_type": "markdown",
  "id": "mno67890-6789-6789-6789-6789abcdefgh",
  "metadata": {},
  "source": [
   "### 7. Реалізація декодування Гафмена"
  ]
 },
 {
  "cell_type": "code",
  "execution_count": 7,
  "id": "pqr78901-7890-7890-7890-789abcdefghi",
  "metadata": {},
  "source": [
   "def huffman_decode(encoded_data, root):\n",
   "    \"\"\"Декодує повідомлення за допомогою дерева Гафмена\"\"\"\n",
   "    decoded_output = []\n",
   "    current_node = root\n",
   "    \n",
   "    for bit in encoded_data:\n",
   "        if bit == '0':\n",
   "            current_node = current_node.left\n",
   "        else:\n",
   "            current_node = current_node.right\n",
   "            \n",
   "        # Якщо досягли листка дерева\n",
   "        if not current_node.left and not current_node.right:\n",
   "            decoded_output.append(current_node.symbol)\n",
   "            current_node = root\n",
   "    \n",
   "    return ''.join(decoded_output)\n",
   "\n",
   "# Приклад декодування\n",
   "encoded_example = \"01001011101111\"\n",
   "decoded_message = huffman_decode(encoded_example, root)\n",
   "print(f\"Декодоване повідомлення: {decoded_message}\")"
  ],
  "outputs": [
   {
    "name": "stdout",
    "output_type": "stream",
    "text": [
     "Декодоване повідомлення: fcaef\n"
    ]
   }
  ]
 },
 {
  "cell_type": "markdown",
  "id": "stu89012-8901-8901-8901-89abcdefghij",
  "metadata": {},
  "source": [
   "## Відповіді на контрольні питання"
  ]
 },
 {
  "cell_type": "markdown",
  "id": "vwx90123-9012-9012-9012-9abcdefghijk",
  "metadata": {},
  "source": [
   "**1. Що таке жадібні алгоритми?**\n",
   "\n",
   "Жадібні алгоритми - це клас алгоритмів, які на кожному кроці роблять локально оптимальний вибір, сподіваючись знайти глобальний оптимум. Вони приймають рішення на основі поточної інформації, не переглядаючи попередні вибори.\n",
   "\n",
   "**2. Що таке префіксний код? Який код використовується у коді Гафмена?**\n",
   "\n",
   "Префіксний код - це код, в якому жоден кодовий символ не є префіксом іншого. У кодуванні Гафмена використовуються саме префіксні коди змінної довжини, що забезпечує однозначність декодування.\n",
   "\n",
   "**3. Як пов'язана структура даних «купа» зі структурою даних «черга з пріоритетами»?**\n",
   "\n",
   "Купа є ефективним способом реалізації черги з пріоритетами. Мінімальна купа дозволяє швидко (за O(log n)) витягувати елемент з найменшим пріоритетом та додавати нові елементи."
  ]
 },
 {
  "cell_type": "markdown",
  "id": "yza01234-0123-0123-0123-abcdefghijkl",
  "metadata": {},
  "source": [
   "**4. Що таке стиснення даних і для чого воно використовується?**\n",
   "\n",
   "Стиснення даних - це процес зменшення розміру даних за рахунок видалення надлишковості. Використовується для економії пам'яті, прискорення передачі даних та зменшення вартості зберігання.\n",
   "\n",
   "**5. Які кроки необхідно виконати для стиснення даних за допомогою алгоритму кодування Гафмена?**\n",
   "\n",
   "1. Підрахувати частоту кожного символу\n",
   "2. Створити мінімальну купу з вузлів для кожного символу\n",
   "3. Побудувати дерево Гафмена, об'єднуючи найменші вузли\n",
   "4. Присвоїти коди символам на основі шляху в дереві\n",
   "5. Закодувати вихідне повідомлення\n",
   "\n",
   "**6. Які основні обмеження та недоліки алгоритму кодування Гафмена?**\n",
   "\n",
   "- Потребує двох проходів по даних\n",
   "- Необхідно зберігати дерево разом з закодованими даними\n",
   "- Неефективний для рівномірного розподілу символів\n",
   "- Часова складність O(n log n)"
  ]
 },
 {
  "cell_type": "markdown",
  "id": "bcd12345-1234-1234-1234-bcdefghijklm",
  "metadata": {},
  "source": [
   "**7. Які існують альтернативні методи стиснення даних?**\n",
   "\n",
   "- Кодування Шеннона-Фано\n",
   "- Адаптивне кодування Гафмена\n",
   "- Арифметичне кодування\n",
   "- LZ77, LZ78 та їх варіанти\n",
   "- Алгоритм Лемпеля-Зіва-Велча (LZW)\n",
   "\n",
   "**8. Які практичні застосування алгоритмів стиснення даних?**\n",
   "\n",
   "- Формати файлів: ZIP, GZIP, RAR\n",
   "- Мультимедійні кодеки: JPEG, PNG, MP3\n",
   "- Передача факсів та текстів\n",
   "- Веб-технології (стиснення HTTP)\n",
   "- Архівування даних\n",
   "- Потокове відео та аудіо"
  ]
 },
 {
  "cell_type": "markdown",
  "id": "efg23456-2345-2345-2345-cdefghijklmn",
  "metadata": {},
  "source": [
   "## Висновки\n",
   "\n",
   "У ході виконання лабораторної роботи було успішно реалізовано алгоритм кодування Гафмена засобами Python. Вивчено принципи роботи жадібних алгоритмів та структур даних \"купа\" і \"черга з пріоритетами\".\n",
   "\n",
   "Основні досягнення:\n",
   "- Реалізовано клас вузла дерева Гафмена\n",
   "- Створено алгоритм побудови оптимального дерева кодів\n",
   "- Розроблено функції кодування та декодування\n",
   "- Протестовано роботу алгоритму на контрольних прикладах\n",
   "\n",
   "Алгоритм Гафмена демонструє ефективність жадібної стратегії для задач оптимізації і має широке практичне застосування у сфері стиснення даних."
  ]
 }
],
"metadata": {
 "kernelspec": {
  "display_name": "Python 3 (ipykernel)",
  "language": "python",
  "name": "python3"
 },
 "language_info": {
  "codemirror_mode": {
   "name": "ipython",
   "version": 3
  },
  "file_extension": ".py",
  "mimetype": "text/x-python",
  "name": "python",
  "nbconvert_exporter": "python",
  "pygments_lexer": "ipython3",
  "version": "3.9.7"
 }
},
"nbformat": 4,
"nbformat_minor": 5
}