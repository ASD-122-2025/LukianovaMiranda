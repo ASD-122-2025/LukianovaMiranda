{
"cells": [
 {
  "cell_type": "raw",
  "id": "682f912d-6d2b-4d2c-be70-c514cffaafa7",
  "metadata": {},
  "source": [
   "---\n",
   "title: \"Лабораторна робота №4. Рекурсія. Стратегія «розділяй і володарюй»\"\n",
   "description:\n",
   "   Документ зроблено за допомогою [Quarto](https://quarto.org/)\n",
   "author: \"&copy; [<span style='color: blue;'>Міранда Лук'янова Романівна </span>]\"\n",
   "date: \"29.05.2025\"\n",
   "lang: ukr\n",
   "format:\n",
   "  html:\n",
   "    code-fold: true\n",
   "    toc: true\n",
   "    toc_float:\n",
   "      collapsed: true\n",
   "      number_sections: true\n",
   "jupyter: python3\n",
   "---"
  ]
 },
 {
  "cell_type": "markdown",
  "id": "0c9fb9cf-cf53-4595-9bd0-5fe08e279dec",
  "metadata": {},
  "source": [
   "## Вступ\n",
   "\n",
   "**Тема:** Рекурсія. Стратегія «розділяй і володарюй»\n",
   "\n",
   "**Мета:** засвоїти технологію реалізації рекурсивних алгоритмів засобами Python і оцінювання їх складності з використанням головної теореми рекурсії.\n",
   "\n",
   "**Завдання:**\n",
   "- Виконувати асимптотичний аналіз складності алгоритмів\n",
   "- Досліджувати часову складність алгоритмів емпірично\n",
   "- Вибирати оптимальний алгоритм\n",
   "- Генерувати випадкові послідовності чисел засобами Python\n",
   "- Будувати графіки засобами бібліотеки matplotlib"
  ]
 },
 {
  "cell_type": "markdown",
  "id": "be09263e-1af6-479e-87bc-cf78d5f6ca7d",
  "metadata": {},
  "source": [
   "## Хід роботи"
  ]
 },
 {
  "cell_type": "markdown",
  "id": "f823d046-8070-4930-a6c6-d40b6ee8b24c",
  "metadata": {},
  "source": [
   "### 1. Налаштування оточення"
  ]
 },
 {
  "cell_type": "code",
  "execution_count": 1,
  "id": "5738d213-5170-468a-8aa3-49bec8b5727b",
  "metadata": {},
  "outputs": [],
  "source": [
   "import math\n",
   "import matplotlib.pyplot as plt\n",
   "import numpy as np\n",
   "import time\n",
   "%matplotlib inline"
  ]
 },
 {
  "cell_type": "markdown",
  "id": "bcabddd5-e891-4bea-bbe4-792974b0837c",
  "metadata": {},
  "source": [
   "### 2. Головна теорема рекурсії\n",
   "\n",
   "**Теорема:** Нехай $T(n) = aT([n/b]) + O(n^d)$ для деяких $a > 0$, $b > 1$, $d ≥ 0$, тоді:\n",
   "\n",
   "$$T(n) = \\begin{cases}\n",
   "O(n^d), & \\text{якщо } d > \\log_b a \\\\\n",
   "O(n^d \\log n), & \\text{якщо } d = \\log_b a \\\\\n",
   "O(n^{\\log_b a}), & \\text{якщо } d < \\log_b a\n",
   "\\end{cases}$$"
  ]
 },
 {
  "cell_type": "markdown",
  "id": "682d877b-442a-43b9-a43a-22b4306a3df2",
  "metadata": {},
  "source": [
   "### 3. Обчислення факторіалу"
  ]
 },
 {
  "cell_type": "markdown",
  "id": "0b268daf-f5d0-41bd-9844-86bd32fcec46",
  "metadata": {},
  "source": [
   "#### Ітеративний варіант (цикл while)"
  ]
 },
 {
  "cell_type": "code",
  "execution_count": 2,
  "id": "93bef238-c88b-41e6-aea2-f86891ec7996",
  "metadata": {},
  "outputs": [
   {
    "name": "stdout",
    "output_type": "stream",
    "text": [
     "120\n"
    ]
   }
  ],
  "source": [
   "def FacSimple(n):\n",
   "    \"\"\"Обчислення факторіала за допомогою цикла while\"\"\"\n",
   "    factorial = 1\n",
   "    i = 1\n",
   "    while i <= n:\n",
   "        factorial *= i\n",
   "        i += 1\n",
   "    return factorial\n",
   "\n",
   "print(FacSimple(5))"
  ]
 },
 {
  "cell_type": "markdown",
  "id": "5db20fef-7463-4150-b7c6-16661d21a8a0",
  "metadata": {},
  "source": [
   "#### Ітеративний варіант (цикл for)"
  ]
 },
 {
  "cell_type": "code",
  "execution_count": 3,
  "id": "abc12345-1234-5678-9abc-def123456789",
  "metadata": {},
  "outputs": [
   {
    "name": "stdout",
    "output_type": "stream",
    "text": [
     "120\n"
    ]
   }
  ],
  "source": [
   "def FacFor(n):\n",
   "    \"\"\"Обчислення факторіала за допомогою цикла for\"\"\"\n",
   "    factorial = 1\n",
   "    for i in range(1, n + 1):\n",
   "        factorial *= i\n",
   "    return factorial\n",
   "\n",
   "print(FacFor(5))\n",
   "# Асимптотична складність: O(n)"
  ]
 },
 {
  "cell_type": "markdown",
  "id": "def45678-9abc-def1-2345-6789abcdef12",
  "metadata": {},
  "source": [
   "#### Рекурсивний варіант"
  ]
 },
 {
  "cell_type": "code",
  "execution_count": 4,
  "id": "ghi78901-2345-6789-abcd-ef1234567890",
  "metadata": {},
  "outputs": [
   {
    "name": "stdout",
    "output_type": "stream",
    "text": [
     "120\n"
    ]
   }
  ],
  "source": [
   "def fac(n):\n",
   "    \"\"\"Обчислення факторіала через рекурсію\"\"\"\n",
   "    if n == 0:\n",
   "        return 1\n",
   "    return fac(n-1) * n\n",
   "\n",
   "print(fac(5))\n",
   "# Асимптотична складність: O(n) - глибина рекурсії n, на кожному рівні O(1)"
  ]
 },
 {
  "cell_type": "markdown",
  "id": "jkl90123-4567-89ab-cdef-123456789012",
  "metadata": {},
  "source": [
   "### 4. Обчислення чисел Фібоначчі"
  ]
 },
 {
  "cell_type": "code",
  "execution_count": 5,
  "id": "mno34567-89ab-cdef-1234-56789abc0123",
  "metadata": {},
  "outputs": [
   {
    "name": "stdout",
    "output_type": "stream",
    "text": [
     "832040\n"
    ]
   }
  ],
  "source": [
   "def fibonacci(n):\n",
   "    \"\"\"Рекурсивне обчислення n-го числа Фібоначчі\"\"\"\n",
   "    if n == 0:\n",
   "        return 0\n",
   "    if n in (1, 2):\n",
   "        return 1\n",
   "    return fibonacci(n - 1) + fibonacci(n - 2)\n",
   "\n",
   "print(fibonacci(30))\n",
   "# Асимптотична складність: O(2^n) - експоненційна, дуже неефективно"
  ]
 },
 {
  "cell_type": "markdown",
  "id": "pqr56789-abcd-ef12-3456-789abc123def",
  "metadata": {},
  "source": [
   "### 5. Сортування злиттям"
  ]
 },
 {
  "cell_type": "code",
  "execution_count": 6,
  "id": "stu78901-2345-6789-abcd-ef123456789a",
  "metadata": {},
  "outputs": [
   {
    "name": "stdout",
    "output_type": "stream",
    "text": [
     "[1, 2, 3, 4, 5, 6, 7, 8]\n"
    ]
   }
  ],
  "source": [
   "def merge(left, right):\n",
   "    \"\"\"Зливає два відсортованих масиви left і right у один\"\"\"\n",
   "    result = []\n",
   "    i, j = 0, 0\n",
   "    while i < len(left) and j < len(right):\n",
   "        if left[i] <= right[j]:\n",
   "            result.append(left[i])\n",
   "            i += 1\n",
   "        else:\n",
   "            result.append(right[j])\n",
   "            j += 1\n",
   "    result += left[i:]\n",
   "    result += right[j:]\n",
   "    return result\n",
   "\n",
   "def mergesort(list):\n",
   "    \"\"\"Рекурсивна функція сортування злиттям\"\"\"\n",
   "    if len(list) < 2:\n",
   "        return list\n",
   "    middle = len(list) // 2\n",
   "    left = mergesort(list[:middle])\n",
   "    right = mergesort(list[middle:])\n",
   "    return merge(left, right)\n",
   "\n",
   "a = [6, 5, 3, 1, 8, 7, 2, 4]\n",
   "print(mergesort(a))"
  ]
 },
 {
  "cell_type": "markdown",
  "id": "vwx12345-6789-abcd-ef12-3456789abcde",
  "metadata": {},
  "source": [
   "#### Аналіз складності сортування злиттям\n",
   "\n",
   "Для сортування злиттям:\n",
   "- a = 2 (ділимо на 2 підзадачі)\n",
   "- b = 2 (розмір зменшується вдвічі)\n",
   "- d = 1 (злиття виконується за O(n))\n",
   "\n",
   "$\\log_b a = \\log_2 2 = 1$\n",
   "\n",
   "Оскільки d = log_b a, то T(n) = O(n log n)"
  ]
 },
 {
  "cell_type": "markdown",
  "id": "yz123456-789a-bcde-f123-456789abcdef",
  "metadata": {},
  "source": [
   "## Відповіді на контрольні питання"
  ]
 },
 {
  "cell_type": "markdown",
  "id": "abc78901-2345-6789-abcd-ef123456789b",
  "metadata": {},
  "source": [
   "**1. Визначення складності задачі із символом Ω**\n",
   "\n",
   "Ω-нотація визначає нижню асимптотичну межу складності алгоритму. f(n) = Ω(g(n)) означає, що існують додатні константи c і n₀ такі, що f(n) ≥ c·g(n) для всіх n ≥ n₀."
  ]
 },
 {
  "cell_type": "markdown",
  "id": "def23456-789a-bcde-f123-456789abcd01",
  "metadata": {},
  "source": [
   "**2. F(N) = N³ + 7N² - 14N**\n",
   "\n",
   "Асимптотична складність: O(N³) - домінує найвищий степінь."
  ]
 },
 {
  "cell_type": "markdown",
  "id": "ghi34567-89ab-cdef-1234-56789abcde23",
  "metadata": {},
  "source": [
   "**3. F(N) = 1.01ᴺ + N¹⁰**\n",
   "\n",
   "Асимптотична складність: O(1.01ᴺ) - експоненційна функція зростає швидше за поліноміальну."
  ]
 },
 {
  "cell_type": "markdown",
  "id": "jkl45678-9abc-def1-2345-6789abcdef45",
  "metadata": {},
  "source": [
   "**4. F(N) = N^1.3 + 10 log₂ N**\n",
   "\n",
   "Асимптотична складність: O(N^1.3) - степенева функція домінує над логарифмічною."
  ]
 },
 {
  "cell_type": "markdown",
  "id": "mno56789-abcd-ef12-3456-789abcdef567",
  "metadata": {},
  "source": [
   "**5. Розпаралелювання обчислень**\n",
   "\n",
   "Ідея полягає у розділенні обчислювальних завдань між кількома процесорами для прискорення виконання. З наведених алгоритмів розпаралелювання можливе для сортування злиттям - підзадачі можна виконувати паралельно."
  ]
 },
 {
  "cell_type": "markdown",
  "id": "pqr67890-bcde-f123-4567-89abcdef6789",
  "metadata": {},
  "source": [
   "**6. Способи підвищення швидкості алгоритмів**\n",
   "\n",
   "- Оптимізація алгоритму (вибір кращого алгоритму)\n",
   "- Розпаралелювання\n",
   "- Мемоізація\n",
   "- Використання ефективних структур даних\n",
   "\n",
   "Найефективніший - вибір алгоритму з кращою асимптотичною складністю."
  ]
 },
 {
  "cell_type": "markdown",
  "id": "stu78901-cdef-1234-5678-9abcdef78901",
  "metadata": {},
  "source": [
   "## Висновки\n",
   "\n",
   "У ході виконання лабораторної роботи було:\n",
   "\n",
   "1. Засвоєно головну теорему рекурсії для аналізу складності алгоритмів типу \"розділяй і володарюй\"\n",
   "2. Реалізовано та проаналізовано рекурсивні алгоритми:\n",
   "   - Факторіал: O(n)\n",
   "   - Числа Фібоначчі: O(2ⁿ) - неефективно\n",
   "   - Сортування злиттям: O(n log n)\n",
   "3. Вивчено принципи оцінювання асимптотичної складності\n",
   "4. Розглянуто можливості оптимізації алгоритмів\n",
   "\n",
   "Стратегія \"розділяй і володарюй\" дозволяє створювати ефективні алгоритми з хорошою асимптотичною складністю та можливістю розпаралелювання."
  ]
 }
],
"metadata": {
 "kernelspec": {
  "display_name": "Python 3 (ipykernel)",
  "language": "python",
  "name": "python3"
 },
 "language_info": {
  "codemirror_mode": {
   "name": "ipython",
   "version": 3
  },
  "file_extension": ".py",
  "mimetype": "text/x-python",
  "name": "python",
  "nbconvert_exporter": "python",
  "pygments_lexer": "ipython3",
  "version": "3.11.7"
 }
},
"nbformat": 4,
"nbformat_minor": 5
}