{
"cells": [
 {
  "cell_type": "markdown",
  "id": "header-section",
  "metadata": {},
  "source": [
   "---\n",
   "title: \"Практична робота №1. Асимптотична складність алгоритмів. O-нотація\"\n",
   "description:\n",
   "   Документ зроблено за допомогою [Quarto](https://quarto.org/)\n",
   "author: \"&copy; [<span style='color: blue;'>Міранда Лук'янова Романівна </span>]\"\n",
   "date: \"29.05.2025\"\n",
   "lang: ukr\n",
   "format:\n",
   "  html:\n",
   "    code-fold: true\n",
   "    toc: true\n",
   "    toc_float:\n",
   "      collapsed: true\n",
   "      number_sections: true\n",
   "jupyter: python3\n",
   "---"
  ]
 },
 {
  "cell_type": "markdown",
  "id": "introduction",
  "metadata": {},
  "source": [
   "## Вступ\n",
   "\n",
   "**Тема:** Асимптотична складність алгоритмів. O-нотація\n",
   "\n",
   "**Мета:** Набути практичних навичок у розв'язанні задач на оцінку асимптотичної складності алгоритмів у O-нотації."
  ]
 },
 {
  "cell_type": "markdown",
  "id": "theoretical-background",
  "metadata": {},
  "source": [
   "## Хід роботи\n",
   "\n",
   "### Теоретичні відомості\n",
   "\n",
   "O-нотація (велика O) використовується для опису асимптотичної верхньої межі часу виконання алгоритму.\n",
   "\n",
   "**Визначення:** $f(n) = O(g(n))$, якщо існує дійсна константа $c > 0$ і натуральна константа $n_0$, така що:\n",
   "\n",
   "$$f(n) ≤ c \\cdot g(n), \\text{ для всіх } n ≥ n_0$$"
  ]
 },
 {
  "cell_type": "markdown",
  "id": "setup",
  "metadata": {},
  "source": [
   "### Налаштування середовища"
  ]
 },
 {
  "cell_type": "code",
  "execution_count": null,
  "id": "imports",
  "metadata": {},
  "outputs": [],
  "source": [
   "import matplotlib.pyplot as plt\n",
   "import numpy as np\n",
   "%matplotlib inline"
  ]
 },
 {
  "cell_type": "markdown",
  "id": "task-solution",
  "metadata": {},
  "source": [
   "### Розв'язання завдання №14\n",
   "\n",
   "**Завдання:** Задано функції $f(n) = 50n^2 + 25$ і $g(n) = n^2$. Доведіть, що $f(n) = O(g(n))$.\n",
   "\n",
   "**Розв'язання:**\n",
   "\n",
   "Згідно з визначенням, потрібно знайти константи $c > 0$ і $n_0$, такі що:\n",
   "$$50n^2 + 25 ≤ c \\cdot n^2 \\text{ для всіх } n ≥ n_0$$"
  ]
 },
 {
  "cell_type": "markdown",
  "id": "solution-method",
  "metadata": {},
  "source": [
   "**Метод 1:**\n",
   "\n",
   "Для $n ≥ 1$:\n",
   "$$50n^2 + 25 ≤ 50n^2 + 25n^2 = 75n^2$$\n",
   "\n",
   "Отже, можемо взяти $c = 75$ і $n_0 = 1$."
  ]
 },
 {
  "cell_type": "markdown",
  "id": "solution-method-2",
  "metadata": {},
  "source": [
   "**Метод 2:**\n",
   "\n",
   "Для $n ≥ 5$:\n",
   "$$50n^2 + 25 ≤ 50n^2 + 5n^2 = 55n^2$$\n",
   "\n",
   "Отже, можемо взяти $c = 55$ і $n_0 = 5$."
  ]
 },
 {
  "cell_type": "markdown",
  "id": "verification",
  "metadata": {},
  "source": [
   "### Графічна перевірка"
  ]
 },
 {
  "cell_type": "code",
  "execution_count": null,
  "id": "graph",
  "metadata": {},
  "outputs": [],
  "source": [
   "# Побудова графіків для перевірки\n",
   "n = np.linspace(1, 10, 100)\n",
   "f_n = 50 * n**2 + 25\n",
   "g_n_75 = 75 * n**2\n",
   "g_n_55 = 55 * n**2\n",
   "\n",
   "plt.figure(figsize=(10, 6))\n",
   "plt.plot(n, f_n, label='f(n) = 50n² + 25', linewidth=2)\n",
   "plt.plot(n, g_n_75, label='75n²', linewidth=2, linestyle='--')\n",
   "plt.plot(n, g_n_55, label='55n² (n≥5)', linewidth=2, linestyle=':')\n",
   "plt.axvline(x=5, color='red', linestyle=':', alpha=0.7, label='n₀ = 5')\n",
   "plt.xlabel('n')\n",
   "plt.ylabel('Значення функції')\n",
   "plt.title('Перевірка O-нотації для f(n) = 50n² + 25')\n",
   "plt.legend()\n",
   "plt.grid(True, alpha=0.3)\n",
   "plt.show()"
  ]
 },
 {
  "cell_type": "markdown",
  "id": "python-verification",
  "metadata": {},
  "source": [
   "### Програмна перевірка"
  ]
 },
 {
  "cell_type": "code",
  "execution_count": null,
  "id": "verification-code",
  "metadata": {},
  "outputs": [],
  "source": [
   "def verify_big_o(n_values, c, n0):\n",
   "    \"\"\"Перевірка умови O-нотації\"\"\"\n",
   "    f_values = 50 * n_values**2 + 25\n",
   "    g_values = c * n_values**2\n",
   "    \n",
   "    # Перевіряємо тільки для n >= n0\n",
   "    valid_indices = n_values >= n0\n",
   "    \n",
   "    condition_satisfied = np.all(f_values[valid_indices] <= g_values[valid_indices])\n",
   "    \n",
   "    return condition_satisfied\n",
   "\n",
   "# Тестування для різних значень\n",
   "n_test = np.arange(1, 101)\n",
   "\n",
   "print(\"Перевірка умови f(n) ≤ c·g(n):\")\n",
   "print(f\"c = 75, n₀ = 1: {verify_big_o(n_test, 75, 1)}\")\n",
   "print(f\"c = 55, n₀ = 5: {verify_big_o(n_test, 55, 5)}\")\n",
   "print(f\"c = 51, n₀ = 25: {verify_big_o(n_test, 51, 25)}\")"
  ]
 },
 {
  "cell_type": "markdown",
  "id": "conclusions",
  "metadata": {},
  "source": [
   "## Висновки\n",
   "\n",
   "1. **Доведено**, що функція $f(n) = 50n^2 + 25$ належить до класу $O(n^2)$\n",
   "\n",
   "2. **Знайдено** кілька пар констант $(c, n_0)$, що задовольняють визначення:\n",
   "   - $c = 75, n_0 = 1$\n",
   "   - $c = 55, n_0 = 5$\n",
   "\n",
   "3. **Застосовано** правила спрощення O-нотації:\n",
   "   - Домінуючий член $50n^2$ визначає порядок зростання\n",
   "   - Константа 25 стає незначною при великих $n$\n",
   "   - Коефіцієнт 50 можна опустити в O-нотації\n",
   "\n",
   "4. **Підтверджено** результат графічно та програмно\n",
   "\n",
   "Таким чином, $f(n) = 50n^2 + 25 = O(n^2)$, що означає квадратичну асимптотичну складність."
  ]
 }
],
"metadata": {
 "kernelspec": {
  "display_name": "Python 3 (ipykernel)",
  "language": "python",
  "name": "python3"
 },
 "language_info": {
  "codemirror_mode": {
   "name": "ipython",
   "version": 3
  },
  "file_extension": ".py",
  "mimetype": "text/x-python",
  "name": "python",
  "nbconvert_exporter": "python",
  "pygments_lexer": "ipython3",
  "version": "3.11.7"
 }
},
"nbformat": 4,
"nbformat_minor": 5
}